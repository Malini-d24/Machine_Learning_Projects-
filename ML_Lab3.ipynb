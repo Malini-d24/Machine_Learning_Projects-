{
 "cells": [
  {
   "cell_type": "markdown",
   "metadata": {},
   "source": [
    "# Salary estimation using k-nearest neighbour "
   ]
  },
  {
   "cell_type": "code",
   "execution_count": 1,
   "metadata": {},
   "outputs": [],
   "source": [
    "import pandas as pd \n",
    "import numpy as np"
   ]
  },
  {
   "cell_type": "code",
   "execution_count": 2,
   "metadata": {},
   "outputs": [],
   "source": [
    "#local dataset"
   ]
  },
  {
   "cell_type": "code",
   "execution_count": 3,
   "metadata": {},
   "outputs": [
    {
     "name": "stdout",
     "output_type": "stream",
     "text": [
      "       age  education.num  Capital.gain  hours per week income\n",
      "0       58             10             0              29  >=50K\n",
      "1       84              4             0              39  >=50K\n",
      "2       92             10             0              34  >=50K\n",
      "3       61             15             0              20  >=50K\n",
      "4       41              6             0              21  <=50K\n",
      "...    ...            ...           ...             ...    ...\n",
      "34994   83             10             0              40  <=50K\n",
      "34995   52              6             0              33  <=50K\n",
      "34996   21             15             0              30  >=50K\n",
      "34997   43             12             0              25  >=50K\n",
      "34998   49             10             0              39  >=50K\n",
      "\n",
      "[34999 rows x 5 columns]\n"
     ]
    }
   ],
   "source": [
    "df=pd.read_csv(r'C:\\Users\\Malini\\Downloads\\knn-lab-3.csv')\n",
    "print(df)"
   ]
  },
  {
   "cell_type": "code",
   "execution_count": 4,
   "metadata": {},
   "outputs": [],
   "source": [
    "#summarize dataset"
   ]
  },
  {
   "cell_type": "code",
   "execution_count": 11,
   "metadata": {},
   "outputs": [
    {
     "data": {
      "text/plain": [
       "<bound method NDFrame.head of        age  education.num  Capital.gain  hours per week income\n",
       "0       58             10             0              29  >=50K\n",
       "1       84              4             0              39  >=50K\n",
       "2       92             10             0              34  >=50K\n",
       "3       61             15             0              20  >=50K\n",
       "4       41              6             0              21  <=50K\n",
       "...    ...            ...           ...             ...    ...\n",
       "34994   83             10             0              40  <=50K\n",
       "34995   52              6             0              33  <=50K\n",
       "34996   21             15             0              30  >=50K\n",
       "34997   43             12             0              25  >=50K\n",
       "34998   49             10             0              39  >=50K\n",
       "\n",
       "[34999 rows x 5 columns]>"
      ]
     },
     "execution_count": 11,
     "metadata": {},
     "output_type": "execute_result"
    }
   ],
   "source": [
    "df.shape\n",
    "df.head"
   ]
  },
  {
   "cell_type": "code",
   "execution_count": 6,
   "metadata": {},
   "outputs": [],
   "source": [
    "#mapping salary data to binary value"
   ]
  },
  {
   "cell_type": "code",
   "execution_count": 13,
   "metadata": {},
   "outputs": [
    {
     "name": "stdout",
     "output_type": "stream",
     "text": [
      "    age  education.num  Capital.gain  hours per week  income\n",
      "0    58             10             0              29       1\n",
      "1    84              4             0              39       1\n",
      "2    92             10             0              34       1\n",
      "3    61             15             0              20       1\n",
      "4    41              6             0              21       0\n",
      "5    43              9             0              21       0\n",
      "6    67             14             0              31       1\n",
      "7    56              7             0              18       1\n",
      "8    36             13             0              37       1\n",
      "9    53              4             0              29       0\n",
      "10   28             14             0              29       1\n",
      "11   67             12             0              22       1\n",
      "12   39              9             0              23       0\n",
      "13   34              6             0              33       1\n",
      "14   28              7             0              27       1\n",
      "15   41              8             0              26       1\n",
      "16   23              4             0              18       0\n",
      "17   58              9             0              35       0\n",
      "18   66              8             0              31       0\n",
      "19   44             13             0              35       1\n"
     ]
    }
   ],
   "source": [
    "income_set=set(df['income'])\n",
    "df['income']=df['income'].map({'<=50K':0,'>=50K':1}).astype(int)\n",
    "print(df.head(20))"
   ]
  },
  {
   "cell_type": "code",
   "execution_count": 15,
   "metadata": {},
   "outputs": [
    {
     "data": {
      "text/plain": [
       "array([[58, 10,  0, 29],\n",
       "       [84,  4,  0, 39],\n",
       "       [92, 10,  0, 34],\n",
       "       ...,\n",
       "       [21, 15,  0, 30],\n",
       "       [43, 12,  0, 25],\n",
       "       [49, 10,  0, 39]], dtype=int64)"
      ]
     },
     "execution_count": 15,
     "metadata": {},
     "output_type": "execute_result"
    }
   ],
   "source": [
    "x=df.iloc[:,:-1].values                       #segregatting x and y value \n",
    "x"
   ]
  },
  {
   "cell_type": "code",
   "execution_count": 16,
   "metadata": {},
   "outputs": [
    {
     "data": {
      "text/plain": [
       "array([1, 1, 1, ..., 1, 1, 1])"
      ]
     },
     "execution_count": 16,
     "metadata": {},
     "output_type": "execute_result"
    }
   ],
   "source": [
    "y=df.iloc[:,-1].values\n",
    "y"
   ]
  },
  {
   "cell_type": "code",
   "execution_count": 19,
   "metadata": {},
   "outputs": [],
   "source": [
    "from sklearn.model_selection import train_test_split\n",
    "x_train,x_test,y_train,y_test = train_test_split(x,y,test_size=0.25,random_state=0)"
   ]
  },
  {
   "cell_type": "code",
   "execution_count": 20,
   "metadata": {},
   "outputs": [
    {
     "name": "stdout",
     "output_type": "stream",
     "text": [
      "[[-0.80375342 -1.01900174  0.          0.45514564]\n",
      " [ 0.65131217  0.43400265  0.          0.9051143 ]\n",
      " [ 0.37848737 -1.6002035   0.          1.20509341]\n",
      " ...\n",
      " [ 0.46942897  1.59640617  0.          1.20509341]\n",
      " [ 1.42431576 -0.43779998  0.         -0.59478124]\n",
      " [ 0.74225377  0.14340177  0.         -0.74477079]]\n"
     ]
    }
   ],
   "source": [
    "#feature scalling\n",
    "from sklearn.preprocessing import StandardScaler\n",
    "sc=StandardScaler()\n",
    "x_train=sc.fit_transform(x_train)\n",
    "x_test=sc.transform(x_test)\n",
    "print(x_train)"
   ]
  },
  {
   "cell_type": "code",
   "execution_count": 21,
   "metadata": {},
   "outputs": [],
   "source": [
    "#finding the best K-value"
   ]
  },
  {
   "cell_type": "code",
   "execution_count": 25,
   "metadata": {},
   "outputs": [],
   "source": [
    "error=[]\n",
    "from sklearn.neighbors import KNeighborsClassifier\n",
    "import matplotlib.pyplot as plt"
   ]
  },
  {
   "cell_type": "code",
   "execution_count": 26,
   "metadata": {},
   "outputs": [],
   "source": [
    "#calculating error for the K values"
   ]
  },
  {
   "cell_type": "code",
   "execution_count": 39,
   "metadata": {},
   "outputs": [
    {
     "data": {
      "text/plain": [
       "Text(0, 0.5, 'mean error')"
      ]
     },
     "execution_count": 39,
     "metadata": {},
     "output_type": "execute_result"
    },
    {
     "data": {
      "image/png": "[encoded data removed]",
      "text/plain": [
       "<Figure size 864x432 with 1 Axes>"
      ]
     },
     "metadata": {
      "needs_background": "light"
     },
     "output_type": "display_data"
    }
   ],
   "source": [
    "error=[]\n",
    "from sklearn.neighbors import KNeighborsClassifier\n",
    "import matplotlib.pyplot as plt\n",
    "for i in range(1,40):\n",
    "    model=KNeighborsClassifier(n_neighbors=i)\n",
    "    model.fit(x_train,y_train)\n",
    "    pred_i=model.predict(x_test)\n",
    "    error.append(np.mean(pred_i!=y_test))\n",
    "\n",
    "plt.figure(figsize=(12,6))\n",
    "plt.plot(range(1,40),error,color='blue',marker='o',markerfacecolor='yellow',markersize=10)\n",
    "plt.title('error rate of K value')\n",
    "plt.xlabel('K value')\n",
    "plt.ylabel('mean error')"
   ]
  },
  {
   "cell_type": "code",
   "execution_count": 37,
   "metadata": {},
   "outputs": [
    {
     "data": {
      "text/plain": [
       "KNeighborsClassifier(n_neighbors=39)"
      ]
     },
     "execution_count": 37,
     "metadata": {},
     "output_type": "execute_result"
    }
   ],
   "source": [
    "from sklearn.neighbors import KNeighborsClassifier\n",
    "model=KNeighborsClassifier(n_neighbors=39,metric='minkowski',p=2)\n",
    "model.fit(x_train,y_train)"
   ]
  },
  {
   "cell_type": "code",
   "execution_count": 42,
   "metadata": {},
   "outputs": [
    {
     "name": "stdout",
     "output_type": "stream",
     "text": [
      "[[1 1]\n",
      " [0 1]\n",
      " [0 1]\n",
      " ...\n",
      " [1 0]\n",
      " [1 0]\n",
      " [1 0]]\n"
     ]
    }
   ],
   "source": [
    "y_pred=model.predict(x_test)\n",
    "print(np.concatenate((y_pred.reshape(len(y_pred),1),y_test.reshape(len(y_test),1)),1))\n"
   ]
  },
  {
   "cell_type": "code",
   "execution_count": 43,
   "metadata": {},
   "outputs": [
    {
     "name": "stdout",
     "output_type": "stream",
     "text": [
      "confusion matrix\n",
      "0.49872182198466186\n",
      "[[2290 2084]\n",
      " [2230 2146]]\n",
      "accuracy of the model: 50.69714285714285%\n"
     ]
    }
   ],
   "source": [
    "from sklearn.metrics import confusion_matrix,accuracy_score,f1_score\n",
    "cm=confusion_matrix(y_test,y_pred)\n",
    "f1=f1_score(y_test,y_pred)\n",
    "print(\"confusion matrix\")\n",
    "print(f1)\n",
    "print(cm)\n",
    "print(\"accuracy of the model: {0}%\".format(accuracy_score(y_test,y_pred)*100))"
   ]
  },
  {
   "cell_type": "code",
   "execution_count": 44,
   "metadata": {},
   "outputs": [],
   "source": [
    "#predicting whether new customer with age&salary will buy or not"
   ]
  },
  {
   "cell_type": "code",
   "execution_count": 47,
   "metadata": {},
   "outputs": [
    {
     "name": "stdout",
     "output_type": "stream",
     "text": [
      "enter the age:45\n",
      "enter the education:10\n",
      "enter the capital gain:5\n",
      "enter work per week:72\n",
      "[1]\n",
      "income above 50k\n"
     ]
    }
   ],
   "source": [
    "age=int(input(\"enter the age:\"))\n",
    "edu=int(input(\"enter the education:\"))\n",
    "cg=int(input(\"enter the capital gain:\"))\n",
    "wh=int(input(\"enter work per week:\"))\n",
    "newemp=[[age,edu,cg,wh]]\n",
    "result=model.predict(sc.transform(newemp))\n",
    "print(result)\n",
    "if result==1:\n",
    "    print(\"income above 50k\")\n",
    "else:\n",
    "    print(\"income below 50k\")"
   ]
  },
  {
   "cell_type": "code",
   "execution_count": null,
   "metadata": {},
   "outputs": [],
   "source": []
  }
 ],
 "metadata": {
  "kernelspec": {
   "display_name": "Python 3 (ipykernel)",
   "language": "python",
   "name": "python3"
  },
  "language_info": {
   "codemirror_mode": {
    "name": "ipython",
    "version": 3
   },
   "file_extension": ".py",
   "mimetype": "text/x-python",
   "name": "python",
   "nbconvert_exporter": "python",
   "pygments_lexer": "ipython3",
   "version": "3.11.5"
  }
 },
 "nbformat": 4,
 "nbformat_minor": 4
}
