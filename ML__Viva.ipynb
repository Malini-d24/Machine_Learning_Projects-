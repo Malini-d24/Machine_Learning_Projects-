{
 "cells": [
  {
   "cell_type": "code",
   "execution_count": 1,
   "metadata": {},
   "outputs": [],
   "source": [
    "%matplotlib inline\n",
    "import pandas as pd\n",
    "import numpy as np\n",
    "import matplotlib.pyplot as plt\n",
    "import seaborn as sns; sns.set()\n",
    "from sklearn.discriminant_analysis import LinearDiscriminantAnalysis\n",
    "from sklearn.tree import DecisionTreeClassifier\n",
    "from sklearn.neighbors import KNeighborsClassifier\n",
    "from sklearn.naive_bayes import GaussianNB\n",
    "from sklearn.svm import SVC\n",
    "from sklearn.model_selection import cross_val_score\n",
    "from sklearn.model_selection import StratifiedKFold\n",
    "from sklearn.linear_model import LogisticRegression"
   ]
  },
  {
   "cell_type": "code",
   "execution_count": 2,
   "metadata": {},
   "outputs": [
    {
     "name": "stdout",
     "output_type": "stream",
     "text": [
      "      gender   age  hypertension  heart_disease ever_married      work_type  \\\n",
      "0       Male  67.0             0              1          Yes        Private   \n",
      "1       Male  80.0             0              1          Yes        Private   \n",
      "2     Female  49.0             0              0          Yes        Private   \n",
      "3     Female  79.0             1              0          Yes  Self-employed   \n",
      "4       Male  81.0             0              0          Yes        Private   \n",
      "...      ...   ...           ...            ...          ...            ...   \n",
      "4976    Male  41.0             0              0           No        Private   \n",
      "4977    Male  40.0             0              0          Yes        Private   \n",
      "4978  Female  45.0             1              0          Yes       Govt_job   \n",
      "4979    Male  40.0             0              0          Yes        Private   \n",
      "4980  Female  80.0             1              0          Yes        Private   \n",
      "\n",
      "     Residence_type  avg_glucose_level   bmi   smoking_status  stroke  \n",
      "0             Urban             228.69  36.6  formerly smoked       1  \n",
      "1             Rural             105.92  32.5     never smoked       1  \n",
      "2             Urban             171.23  34.4           smokes       1  \n",
      "3             Rural             174.12  24.0     never smoked       1  \n",
      "4             Urban             186.21  29.0  formerly smoked       1  \n",
      "...             ...                ...   ...              ...     ...  \n",
      "4976          Rural              70.15  29.8  formerly smoked       0  \n",
      "4977          Urban             191.15  31.1           smokes       0  \n",
      "4978          Rural              95.02  31.8           smokes       0  \n",
      "4979          Rural              83.94  30.0           smokes       0  \n",
      "4980          Urban              83.75  29.1     never smoked       0  \n",
      "\n",
      "[4981 rows x 11 columns]\n"
     ]
    }
   ],
   "source": [
    "df=pd.read_csv(r'C:\\Users\\Malini\\OneDrive\\Desktop\\Dataset\\brain_stroke.csv')\n",
    "print(df)"
   ]
  },
  {
   "cell_type": "code",
   "execution_count": 3,
   "metadata": {
    "scrolled": true
   },
   "outputs": [
    {
     "data": {
      "text/html": [
       "<div>\n",
       "<style scoped>\n",
       "    .dataframe tbody tr th:only-of-type {\n",
       "        vertical-align: middle;\n",
       "    }\n",
       "\n",
       "    .dataframe tbody tr th {\n",
       "        vertical-align: top;\n",
       "    }\n",
       "\n",
       "    .dataframe thead th {\n",
       "        text-align: right;\n",
       "    }\n",
       "</style>\n",
       "<table border=\"1\" class=\"dataframe\">\n",
       "  <thead>\n",
       "    <tr style=\"text-align: right;\">\n",
       "      <th></th>\n",
       "      <th>gender</th>\n",
       "      <th>age</th>\n",
       "      <th>hypertension</th>\n",
       "      <th>heart_disease</th>\n",
       "      <th>ever_married</th>\n",
       "      <th>work_type</th>\n",
       "      <th>Residence_type</th>\n",
       "      <th>avg_glucose_level</th>\n",
       "      <th>bmi</th>\n",
       "      <th>smoking_status</th>\n",
       "      <th>stroke</th>\n",
       "    </tr>\n",
       "  </thead>\n",
       "  <tbody>\n",
       "    <tr>\n",
       "      <th>0</th>\n",
       "      <td>1</td>\n",
       "      <td>67.0</td>\n",
       "      <td>0</td>\n",
       "      <td>1</td>\n",
       "      <td>1</td>\n",
       "      <td>1</td>\n",
       "      <td>1</td>\n",
       "      <td>228.69</td>\n",
       "      <td>36.6</td>\n",
       "      <td>1</td>\n",
       "      <td>1</td>\n",
       "    </tr>\n",
       "    <tr>\n",
       "      <th>1</th>\n",
       "      <td>1</td>\n",
       "      <td>80.0</td>\n",
       "      <td>0</td>\n",
       "      <td>1</td>\n",
       "      <td>1</td>\n",
       "      <td>1</td>\n",
       "      <td>0</td>\n",
       "      <td>105.92</td>\n",
       "      <td>32.5</td>\n",
       "      <td>2</td>\n",
       "      <td>1</td>\n",
       "    </tr>\n",
       "    <tr>\n",
       "      <th>2</th>\n",
       "      <td>0</td>\n",
       "      <td>49.0</td>\n",
       "      <td>0</td>\n",
       "      <td>0</td>\n",
       "      <td>1</td>\n",
       "      <td>1</td>\n",
       "      <td>1</td>\n",
       "      <td>171.23</td>\n",
       "      <td>34.4</td>\n",
       "      <td>3</td>\n",
       "      <td>1</td>\n",
       "    </tr>\n",
       "    <tr>\n",
       "      <th>3</th>\n",
       "      <td>0</td>\n",
       "      <td>79.0</td>\n",
       "      <td>1</td>\n",
       "      <td>0</td>\n",
       "      <td>1</td>\n",
       "      <td>2</td>\n",
       "      <td>0</td>\n",
       "      <td>174.12</td>\n",
       "      <td>24.0</td>\n",
       "      <td>2</td>\n",
       "      <td>1</td>\n",
       "    </tr>\n",
       "    <tr>\n",
       "      <th>4</th>\n",
       "      <td>1</td>\n",
       "      <td>81.0</td>\n",
       "      <td>0</td>\n",
       "      <td>0</td>\n",
       "      <td>1</td>\n",
       "      <td>1</td>\n",
       "      <td>1</td>\n",
       "      <td>186.21</td>\n",
       "      <td>29.0</td>\n",
       "      <td>1</td>\n",
       "      <td>1</td>\n",
       "    </tr>\n",
       "    <tr>\n",
       "      <th>...</th>\n",
       "      <td>...</td>\n",
       "      <td>...</td>\n",
       "      <td>...</td>\n",
       "      <td>...</td>\n",
       "      <td>...</td>\n",
       "      <td>...</td>\n",
       "      <td>...</td>\n",
       "      <td>...</td>\n",
       "      <td>...</td>\n",
       "      <td>...</td>\n",
       "      <td>...</td>\n",
       "    </tr>\n",
       "    <tr>\n",
       "      <th>4976</th>\n",
       "      <td>1</td>\n",
       "      <td>41.0</td>\n",
       "      <td>0</td>\n",
       "      <td>0</td>\n",
       "      <td>0</td>\n",
       "      <td>1</td>\n",
       "      <td>0</td>\n",
       "      <td>70.15</td>\n",
       "      <td>29.8</td>\n",
       "      <td>1</td>\n",
       "      <td>0</td>\n",
       "    </tr>\n",
       "    <tr>\n",
       "      <th>4977</th>\n",
       "      <td>1</td>\n",
       "      <td>40.0</td>\n",
       "      <td>0</td>\n",
       "      <td>0</td>\n",
       "      <td>1</td>\n",
       "      <td>1</td>\n",
       "      <td>1</td>\n",
       "      <td>191.15</td>\n",
       "      <td>31.1</td>\n",
       "      <td>3</td>\n",
       "      <td>0</td>\n",
       "    </tr>\n",
       "    <tr>\n",
       "      <th>4978</th>\n",
       "      <td>0</td>\n",
       "      <td>45.0</td>\n",
       "      <td>1</td>\n",
       "      <td>0</td>\n",
       "      <td>1</td>\n",
       "      <td>0</td>\n",
       "      <td>0</td>\n",
       "      <td>95.02</td>\n",
       "      <td>31.8</td>\n",
       "      <td>3</td>\n",
       "      <td>0</td>\n",
       "    </tr>\n",
       "    <tr>\n",
       "      <th>4979</th>\n",
       "      <td>1</td>\n",
       "      <td>40.0</td>\n",
       "      <td>0</td>\n",
       "      <td>0</td>\n",
       "      <td>1</td>\n",
       "      <td>1</td>\n",
       "      <td>0</td>\n",
       "      <td>83.94</td>\n",
       "      <td>30.0</td>\n",
       "      <td>3</td>\n",
       "      <td>0</td>\n",
       "    </tr>\n",
       "    <tr>\n",
       "      <th>4980</th>\n",
       "      <td>0</td>\n",
       "      <td>80.0</td>\n",
       "      <td>1</td>\n",
       "      <td>0</td>\n",
       "      <td>1</td>\n",
       "      <td>1</td>\n",
       "      <td>1</td>\n",
       "      <td>83.75</td>\n",
       "      <td>29.1</td>\n",
       "      <td>2</td>\n",
       "      <td>0</td>\n",
       "    </tr>\n",
       "  </tbody>\n",
       "</table>\n",
       "<p>4981 rows × 11 columns</p>\n",
       "</div>"
      ],
      "text/plain": [
       "      gender   age  hypertension  heart_disease  ever_married  work_type  \\\n",
       "0          1  67.0             0              1             1          1   \n",
       "1          1  80.0             0              1             1          1   \n",
       "2          0  49.0             0              0             1          1   \n",
       "3          0  79.0             1              0             1          2   \n",
       "4          1  81.0             0              0             1          1   \n",
       "...      ...   ...           ...            ...           ...        ...   \n",
       "4976       1  41.0             0              0             0          1   \n",
       "4977       1  40.0             0              0             1          1   \n",
       "4978       0  45.0             1              0             1          0   \n",
       "4979       1  40.0             0              0             1          1   \n",
       "4980       0  80.0             1              0             1          1   \n",
       "\n",
       "      Residence_type  avg_glucose_level   bmi  smoking_status  stroke  \n",
       "0                  1             228.69  36.6               1       1  \n",
       "1                  0             105.92  32.5               2       1  \n",
       "2                  1             171.23  34.4               3       1  \n",
       "3                  0             174.12  24.0               2       1  \n",
       "4                  1             186.21  29.0               1       1  \n",
       "...              ...                ...   ...             ...     ...  \n",
       "4976               0              70.15  29.8               1       0  \n",
       "4977               1             191.15  31.1               3       0  \n",
       "4978               0              95.02  31.8               3       0  \n",
       "4979               0              83.94  30.0               3       0  \n",
       "4980               1              83.75  29.1               2       0  \n",
       "\n",
       "[4981 rows x 11 columns]"
      ]
     },
     "execution_count": 3,
     "metadata": {},
     "output_type": "execute_result"
    }
   ],
   "source": [
    "df['gender']=df['gender'].astype('category')\n",
    "df['gender']=df['gender'].cat.codes\n",
    "\n",
    "df['smoking_status']=df['smoking_status'].astype('category')\n",
    "df['smoking_status']=df['smoking_status'].cat.codes\n",
    "\n",
    "df['ever_married']=df['ever_married'].astype('category')\n",
    "df['ever_married']=df['ever_married'].cat.codes\n",
    "\n",
    "df['work_type']=df['work_type'].astype('category')\n",
    "df['work_type']=df['work_type'].cat.codes\n",
    "\n",
    "df['Residence_type']=df['Residence_type'].astype('category')\n",
    "df['Residence_type']=df['Residence_type'].cat.codes\n",
    "df"
   ]
  },
  {
   "cell_type": "code",
   "execution_count": 4,
   "metadata": {},
   "outputs": [
    {
     "data": {
      "text/html": [
       "<div>\n",
       "<style scoped>\n",
       "    .dataframe tbody tr th:only-of-type {\n",
       "        vertical-align: middle;\n",
       "    }\n",
       "\n",
       "    .dataframe tbody tr th {\n",
       "        vertical-align: top;\n",
       "    }\n",
       "\n",
       "    .dataframe thead th {\n",
       "        text-align: right;\n",
       "    }\n",
       "</style>\n",
       "<table border=\"1\" class=\"dataframe\">\n",
       "  <thead>\n",
       "    <tr style=\"text-align: right;\">\n",
       "      <th></th>\n",
       "      <th>age</th>\n",
       "      <th>hypertension</th>\n",
       "      <th>heart_disease</th>\n",
       "      <th>avg_glucose_level</th>\n",
       "      <th>bmi</th>\n",
       "    </tr>\n",
       "  </thead>\n",
       "  <tbody>\n",
       "    <tr>\n",
       "      <th>0</th>\n",
       "      <td>67.0</td>\n",
       "      <td>0</td>\n",
       "      <td>1</td>\n",
       "      <td>228.69</td>\n",
       "      <td>36.6</td>\n",
       "    </tr>\n",
       "    <tr>\n",
       "      <th>1</th>\n",
       "      <td>80.0</td>\n",
       "      <td>0</td>\n",
       "      <td>1</td>\n",
       "      <td>105.92</td>\n",
       "      <td>32.5</td>\n",
       "    </tr>\n",
       "    <tr>\n",
       "      <th>2</th>\n",
       "      <td>49.0</td>\n",
       "      <td>0</td>\n",
       "      <td>0</td>\n",
       "      <td>171.23</td>\n",
       "      <td>34.4</td>\n",
       "    </tr>\n",
       "    <tr>\n",
       "      <th>3</th>\n",
       "      <td>79.0</td>\n",
       "      <td>1</td>\n",
       "      <td>0</td>\n",
       "      <td>174.12</td>\n",
       "      <td>24.0</td>\n",
       "    </tr>\n",
       "    <tr>\n",
       "      <th>4</th>\n",
       "      <td>81.0</td>\n",
       "      <td>0</td>\n",
       "      <td>0</td>\n",
       "      <td>186.21</td>\n",
       "      <td>29.0</td>\n",
       "    </tr>\n",
       "    <tr>\n",
       "      <th>...</th>\n",
       "      <td>...</td>\n",
       "      <td>...</td>\n",
       "      <td>...</td>\n",
       "      <td>...</td>\n",
       "      <td>...</td>\n",
       "    </tr>\n",
       "    <tr>\n",
       "      <th>4976</th>\n",
       "      <td>41.0</td>\n",
       "      <td>0</td>\n",
       "      <td>0</td>\n",
       "      <td>70.15</td>\n",
       "      <td>29.8</td>\n",
       "    </tr>\n",
       "    <tr>\n",
       "      <th>4977</th>\n",
       "      <td>40.0</td>\n",
       "      <td>0</td>\n",
       "      <td>0</td>\n",
       "      <td>191.15</td>\n",
       "      <td>31.1</td>\n",
       "    </tr>\n",
       "    <tr>\n",
       "      <th>4978</th>\n",
       "      <td>45.0</td>\n",
       "      <td>1</td>\n",
       "      <td>0</td>\n",
       "      <td>95.02</td>\n",
       "      <td>31.8</td>\n",
       "    </tr>\n",
       "    <tr>\n",
       "      <th>4979</th>\n",
       "      <td>40.0</td>\n",
       "      <td>0</td>\n",
       "      <td>0</td>\n",
       "      <td>83.94</td>\n",
       "      <td>30.0</td>\n",
       "    </tr>\n",
       "    <tr>\n",
       "      <th>4980</th>\n",
       "      <td>80.0</td>\n",
       "      <td>1</td>\n",
       "      <td>0</td>\n",
       "      <td>83.75</td>\n",
       "      <td>29.1</td>\n",
       "    </tr>\n",
       "  </tbody>\n",
       "</table>\n",
       "<p>4981 rows × 5 columns</p>\n",
       "</div>"
      ],
      "text/plain": [
       "       age  hypertension  heart_disease  avg_glucose_level   bmi\n",
       "0     67.0             0              1             228.69  36.6\n",
       "1     80.0             0              1             105.92  32.5\n",
       "2     49.0             0              0             171.23  34.4\n",
       "3     79.0             1              0             174.12  24.0\n",
       "4     81.0             0              0             186.21  29.0\n",
       "...    ...           ...            ...                ...   ...\n",
       "4976  41.0             0              0              70.15  29.8\n",
       "4977  40.0             0              0             191.15  31.1\n",
       "4978  45.0             1              0              95.02  31.8\n",
       "4979  40.0             0              0              83.94  30.0\n",
       "4980  80.0             1              0              83.75  29.1\n",
       "\n",
       "[4981 rows x 5 columns]"
      ]
     },
     "execution_count": 4,
     "metadata": {},
     "output_type": "execute_result"
    }
   ],
   "source": [
    "x= df.iloc[:,[1,2,3,7,8]]\n",
    "x"
   ]
  },
  {
   "cell_type": "code",
   "execution_count": 5,
   "metadata": {},
   "outputs": [
    {
     "data": {
      "text/plain": [
       "array([[1],\n",
       "       [1],\n",
       "       [1],\n",
       "       ...,\n",
       "       [0],\n",
       "       [0],\n",
       "       [0]], dtype=int64)"
      ]
     },
     "execution_count": 5,
     "metadata": {},
     "output_type": "execute_result"
    }
   ],
   "source": [
    "y=df.iloc[:,-1:].values\n",
    "y"
   ]
  },
  {
   "cell_type": "code",
   "execution_count": 6,
   "metadata": {},
   "outputs": [
    {
     "name": "stdout",
     "output_type": "stream",
     "text": [
      "(3735, 5)\n",
      "(1246, 5)\n"
     ]
    }
   ],
   "source": [
    "#splitting the data\n",
    "from sklearn.model_selection import train_test_split\n",
    "x_train,x_test,y_train,y_test = train_test_split(x,y,\n",
    "                                                test_size=0.25,random_state=0)\n",
    "print(x_train.shape)\n",
    "print(x_test.shape)"
   ]
  },
  {
   "cell_type": "markdown",
   "metadata": {},
   "source": [
    "# Decision tree algo"
   ]
  },
  {
   "cell_type": "code",
   "execution_count": 7,
   "metadata": {},
   "outputs": [
    {
     "data": {
      "text/plain": [
       "Text(0, 0.5, 'score')"
      ]
     },
     "execution_count": 7,
     "metadata": {},
     "output_type": "execute_result"
    },
    {
     "data": {
      "image/png": "[encoded data removed]",
      "text/plain": [
       "<Figure size 864x432 with 1 Axes>"
      ]
     },
     "metadata": {},
     "output_type": "display_data"
    }
   ],
   "source": [
    "#finding best_max depth\n",
    "\n",
    "accuracy=[]\n",
    "from sklearn.tree import DecisionTreeClassifier\n",
    "from  sklearn.metrics import accuracy_score\n",
    "import matplotlib.pyplot as plt\n",
    "\n",
    "for i in range(1,10):\n",
    "    model=DecisionTreeClassifier(max_depth=i,random_state=0)\n",
    "    model.fit(x_train,y_train)\n",
    "    pred=model.predict(x_test)\n",
    "    score=accuracy_score(y_test,pred)\n",
    "    accuracy.append(score)\n",
    "    \n",
    "plt.figure(figsize=(12,6))\n",
    "plt.plot(range(1,10),accuracy,color='red',linestyle='dashed',marker='o',markerfacecolor='blue',markersize=10)\n",
    "plt.title(\"finding the best max_depth\")\n",
    "plt.xlabel(\"pred\")\n",
    "plt.ylabel(\"score\")"
   ]
  },
  {
   "cell_type": "code",
   "execution_count": 8,
   "metadata": {},
   "outputs": [
    {
     "data": {
      "text/plain": [
       "DecisionTreeClassifier(max_depth=3, random_state=0)"
      ]
     },
     "execution_count": 8,
     "metadata": {},
     "output_type": "execute_result"
    }
   ],
   "source": [
    "#training\n",
    "\n",
    "from sklearn.tree import DecisionTreeClassifier\n",
    "model=DecisionTreeClassifier(criterion='gini',max_depth=3,random_state=0)\n",
    "model.fit(x_train,y_train)"
   ]
  },
  {
   "cell_type": "code",
   "execution_count": 9,
   "metadata": {},
   "outputs": [
    {
     "name": "stdout",
     "output_type": "stream",
     "text": [
      "[[0 0]\n",
      " [1 0]\n",
      " [0 0]\n",
      " ...\n",
      " [0 0]\n",
      " [0 0]\n",
      " [0 0]]\n"
     ]
    }
   ],
   "source": [
    "#prediction for all test data\n",
    "\n",
    "y_pred=model.predict(x_test)\n",
    "print(np.concatenate((y_pred.reshape(len(y_pred),1),y_test.reshape(len(y_test),1)),1))"
   ]
  },
  {
   "cell_type": "code",
   "execution_count": 10,
   "metadata": {},
   "outputs": [
    {
     "name": "stdout",
     "output_type": "stream",
     "text": [
      "confusion matrix\n",
      "[[1185    2]\n",
      " [  59    0]]\n",
      "accuracy of the model:95.10433386837882% \n"
     ]
    }
   ],
   "source": [
    "#confusion matrix and accuracy\n",
    "\n",
    "from sklearn.metrics import confusion_matrix,accuracy_score\n",
    "cm=confusion_matrix(y_test,y_pred)\n",
    "\n",
    "print(\"confusion matrix\")\n",
    "\n",
    "print(cm)\n",
    "print(\"accuracy of the model:{0}% \".format(accuracy_score(y_test,y_pred)*100))"
   ]
  },
  {
   "cell_type": "code",
   "execution_count": 11,
   "metadata": {},
   "outputs": [
    {
     "data": {
      "text/plain": [
       "[Text(697.5, 951.3000000000001, 'X[0] <= 73.5\\ngini = 0.096\\nsamples = 3735\\nvalue = [3546, 189]'),\n",
       " Text(348.75, 679.5, 'X[0] <= 53.5\\ngini = 0.059\\nsamples = 3310\\nvalue = [3210, 100]'),\n",
       " Text(174.375, 407.70000000000005, 'X[4] <= 48.85\\ngini = 0.019\\nsamples = 2351\\nvalue = [2329, 22]'),\n",
       " Text(87.1875, 135.89999999999998, 'gini = 0.018\\nsamples = 2349\\nvalue = [2328, 21]'),\n",
       " Text(261.5625, 135.89999999999998, 'gini = 0.5\\nsamples = 2\\nvalue = [1, 1]'),\n",
       " Text(523.125, 407.70000000000005, 'X[3] <= 180.865\\ngini = 0.149\\nsamples = 959\\nvalue = [881, 78]'),\n",
       " Text(435.9375, 135.89999999999998, 'gini = 0.112\\nsamples = 755\\nvalue = [710, 45]'),\n",
       " Text(610.3125, 135.89999999999998, 'gini = 0.271\\nsamples = 204\\nvalue = [171, 33]'),\n",
       " Text(1046.25, 679.5, 'X[4] <= 32.95\\ngini = 0.331\\nsamples = 425\\nvalue = [336, 89]'),\n",
       " Text(871.875, 407.70000000000005, 'X[3] <= 103.64\\ngini = 0.362\\nsamples = 350\\nvalue = [267, 83]'),\n",
       " Text(784.6875, 135.89999999999998, 'gini = 0.303\\nsamples = 199\\nvalue = [162, 37]'),\n",
       " Text(959.0625, 135.89999999999998, 'gini = 0.424\\nsamples = 151\\nvalue = [105, 46]'),\n",
       " Text(1220.625, 407.70000000000005, 'X[3] <= 230.13\\ngini = 0.147\\nsamples = 75\\nvalue = [69, 6]'),\n",
       " Text(1133.4375, 135.89999999999998, 'gini = 0.082\\nsamples = 70\\nvalue = [67, 3]'),\n",
       " Text(1307.8125, 135.89999999999998, 'gini = 0.48\\nsamples = 5\\nvalue = [2, 3]')]"
      ]
     },
     "execution_count": 11,
     "metadata": {},
     "output_type": "execute_result"
    },
    {
     "data": {
      "image/png": "[encoded data removed]",
      "text/plain": [
       "<Figure size 1800x1440 with 1 Axes>"
      ]
     },
     "metadata": {},
     "output_type": "display_data"
    }
   ],
   "source": [
    "from sklearn.tree import DecisionTreeClassifier\n",
    "from sklearn import tree\n",
    "fig=plt.figure(figsize=(25,20))\n",
    "a=tree.plot_tree(model,filled=True)\n",
    "a"
   ]
  },
  {
   "cell_type": "markdown",
   "metadata": {},
   "source": [
    "# GaussianNB"
   ]
  },
  {
   "cell_type": "code",
   "execution_count": 12,
   "metadata": {},
   "outputs": [],
   "source": [
    "from sklearn.model_selection import train_test_split\n",
    "x_train,x_test,y_train,y_test = train_test_split(x,y, test_size=0.25,random_state=0)"
   ]
  },
  {
   "cell_type": "code",
   "execution_count": 13,
   "metadata": {},
   "outputs": [
    {
     "name": "stderr",
     "output_type": "stream",
     "text": [
      "C:\\newfolder\\lib\\site-packages\\sklearn\\utils\\validation.py:73: DataConversionWarning: A column-vector y was passed when a 1d array was expected. Please change the shape of y to (n_samples, ), for example using ravel().\n",
      "  return f(**kwargs)\n"
     ]
    },
    {
     "data": {
      "text/plain": [
       "GaussianNB()"
      ]
     },
     "execution_count": 13,
     "metadata": {},
     "output_type": "execute_result"
    }
   ],
   "source": [
    "from sklearn.naive_bayes import GaussianNB\n",
    "model=GaussianNB()\n",
    "model.fit(x_train,y_train)"
   ]
  },
  {
   "cell_type": "code",
   "execution_count": 14,
   "metadata": {},
   "outputs": [
    {
     "name": "stdout",
     "output_type": "stream",
     "text": [
      "[[0 0]\n",
      " [1 0]\n",
      " [0 0]\n",
      " ...\n",
      " [0 0]\n",
      " [0 0]\n",
      " [0 0]]\n"
     ]
    }
   ],
   "source": [
    "y_pred=model.predict(x_test)\n",
    "print(np.column_stack((y_pred,y_test)))"
   ]
  },
  {
   "cell_type": "code",
   "execution_count": 15,
   "metadata": {},
   "outputs": [
    {
     "name": "stdout",
     "output_type": "stream",
     "text": [
      "confusion matrix\n",
      "0.23350253807106597\n",
      "[[1072  115]\n",
      " [  36   23]]\n",
      "Accuracy of the model: 87.88121990369181%\n"
     ]
    }
   ],
   "source": [
    "from sklearn.metrics import confusion_matrix,accuracy_score,f1_score\n",
    "cm=confusion_matrix(y_test,y_pred)\n",
    "f1=f1_score(y_test,y_pred)\n",
    "print(\"confusion matrix\")\n",
    "print(f1)\n",
    "print(cm)\n",
    "print(\"Accuracy of the model: {0}%\".format(accuracy_score(y_test,y_pred)*100))"
   ]
  },
  {
   "cell_type": "code",
   "execution_count": 16,
   "metadata": {},
   "outputs": [
    {
     "data": {
      "text/plain": [
       "<Axes: >"
      ]
     },
     "execution_count": 16,
     "metadata": {},
     "output_type": "execute_result"
    },
    {
     "data": {
      "image/png": "[encoded data removed]",
      "text/plain": [
       "<Figure size 432x288 with 2 Axes>"
      ]
     },
     "metadata": {},
     "output_type": "display_data"
    }
   ],
   "source": [
    "import seaborn as sns\n",
    "sns.heatmap(cm,linewidth = 0.5 , cmap = 'coolwarm')"
   ]
  },
  {
   "cell_type": "markdown",
   "metadata": {},
   "source": [
    "# Algorithm comparison"
   ]
  },
  {
   "cell_type": "code",
   "execution_count": 17,
   "metadata": {},
   "outputs": [
    {
     "name": "stdout",
     "output_type": "stream",
     "text": [
      "[[-0.76992324 -0.32760168 -0.24896716  1.37219738 -0.8198263 ]\n",
      " [-1.47558671 -0.32760168 -0.24896716 -1.07747037 -1.92339014]\n",
      " [-1.47558671 -0.32760168 -0.24896716 -0.78095606 -0.45197169]\n",
      " ...\n",
      " [ 0.55319576 -0.32760168 -0.24896716  2.62012048  2.10829642]\n",
      " [ 0.59729972 -0.32760168 -0.24896716  0.03191736  0.15130988]\n",
      " [-1.51969067 -0.32760168 -0.24896716 -0.34966252 -1.43782205]]\n"
     ]
    }
   ],
   "source": [
    "#feature scalling\n",
    "\n",
    "from sklearn.preprocessing import StandardScaler\n",
    "sc=StandardScaler()\n",
    "x_train=sc.fit_transform(x_train)\n",
    "x_test=sc.transform(x_test)\n",
    "print(x_train)"
   ]
  },
  {
   "cell_type": "code",
   "execution_count": 18,
   "metadata": {},
   "outputs": [],
   "source": [
    "from sklearn.discriminant_analysis import LinearDiscriminantAnalysis\n",
    "from sklearn.linear_model import LogisticRegression\n",
    "from sklearn.tree import DecisionTreeClassifier\n",
    "from sklearn.neighbors import KNeighborsClassifier\n",
    "from sklearn.naive_bayes import GaussianNB\n",
    "from sklearn.svm import SVC\n",
    "\n",
    "from sklearn.model_selection import cross_val_score\n",
    "from sklearn.model_selection import StratifiedKFold"
   ]
  },
  {
   "cell_type": "code",
   "execution_count": 19,
   "metadata": {},
   "outputs": [
    {
     "name": "stdout",
     "output_type": "stream",
     "text": [
      "[('LR', LogisticRegression(multi_class='ovr', solver='liblinear')), ('LDA', LinearDiscriminantAnalysis()), ('KNN', KNeighborsClassifier()), ('CART', DecisionTreeClassifier()), ('NB', GaussianNB()), ('SVM', SVC(gamma='auto'))]\n"
     ]
    }
   ],
   "source": [
    "models=[]\n",
    "models.append(('LR',LogisticRegression(solver='liblinear',multi_class='ovr')))\n",
    "models.append(('LDA',LinearDiscriminantAnalysis()))\n",
    "models.append(('KNN',KNeighborsClassifier()))\n",
    "models.append(('CART',DecisionTreeClassifier()))\n",
    "models.append(('NB',GaussianNB()))\n",
    "models.append(('SVM',SVC(gamma='auto')))\n",
    "print(models)"
   ]
  },
  {
   "cell_type": "code",
   "execution_count": 20,
   "metadata": {},
   "outputs": [
    {
     "name": "stdout",
     "output_type": "stream",
     "text": [
      "LR: 0.949398\n",
      "LDA: 0.945114\n"
     ]
    },
    {
     "name": "stderr",
     "output_type": "stream",
     "text": [
      "C:\\newfolder\\lib\\site-packages\\sklearn\\utils\\validation.py:73: DataConversionWarning: A column-vector y was passed when a 1d array was expected. Please change the shape of y to (n_samples, ), for example using ravel().\n",
      "  return f(**kwargs)\n",
      "C:\\newfolder\\lib\\site-packages\\sklearn\\utils\\validation.py:73: DataConversionWarning: A column-vector y was passed when a 1d array was expected. Please change the shape of y to (n_samples, ), for example using ravel().\n",
      "  return f(**kwargs)\n",
      "C:\\newfolder\\lib\\site-packages\\sklearn\\utils\\validation.py:73: DataConversionWarning: A column-vector y was passed when a 1d array was expected. Please change the shape of y to (n_samples, ), for example using ravel().\n",
      "  return f(**kwargs)\n",
      "C:\\newfolder\\lib\\site-packages\\sklearn\\utils\\validation.py:73: DataConversionWarning: A column-vector y was passed when a 1d array was expected. Please change the shape of y to (n_samples, ), for example using ravel().\n",
      "  return f(**kwargs)\n",
      "C:\\newfolder\\lib\\site-packages\\sklearn\\utils\\validation.py:73: DataConversionWarning: A column-vector y was passed when a 1d array was expected. Please change the shape of y to (n_samples, ), for example using ravel().\n",
      "  return f(**kwargs)\n",
      "C:\\newfolder\\lib\\site-packages\\sklearn\\utils\\validation.py:73: DataConversionWarning: A column-vector y was passed when a 1d array was expected. Please change the shape of y to (n_samples, ), for example using ravel().\n",
      "  return f(**kwargs)\n",
      "C:\\newfolder\\lib\\site-packages\\sklearn\\utils\\validation.py:73: DataConversionWarning: A column-vector y was passed when a 1d array was expected. Please change the shape of y to (n_samples, ), for example using ravel().\n",
      "  return f(**kwargs)\n",
      "C:\\newfolder\\lib\\site-packages\\sklearn\\utils\\validation.py:73: DataConversionWarning: A column-vector y was passed when a 1d array was expected. Please change the shape of y to (n_samples, ), for example using ravel().\n",
      "  return f(**kwargs)\n",
      "C:\\newfolder\\lib\\site-packages\\sklearn\\utils\\validation.py:73: DataConversionWarning: A column-vector y was passed when a 1d array was expected. Please change the shape of y to (n_samples, ), for example using ravel().\n",
      "  return f(**kwargs)\n",
      "C:\\newfolder\\lib\\site-packages\\sklearn\\utils\\validation.py:73: DataConversionWarning: A column-vector y was passed when a 1d array was expected. Please change the shape of y to (n_samples, ), for example using ravel().\n",
      "  return f(**kwargs)\n",
      "C:\\newfolder\\lib\\site-packages\\sklearn\\utils\\validation.py:73: DataConversionWarning: A column-vector y was passed when a 1d array was expected. Please change the shape of y to (n_samples, ), for example using ravel().\n",
      "  return f(**kwargs)\n",
      "C:\\newfolder\\lib\\site-packages\\sklearn\\utils\\validation.py:73: DataConversionWarning: A column-vector y was passed when a 1d array was expected. Please change the shape of y to (n_samples, ), for example using ravel().\n",
      "  return f(**kwargs)\n",
      "C:\\newfolder\\lib\\site-packages\\sklearn\\utils\\validation.py:73: DataConversionWarning: A column-vector y was passed when a 1d array was expected. Please change the shape of y to (n_samples, ), for example using ravel().\n",
      "  return f(**kwargs)\n",
      "C:\\newfolder\\lib\\site-packages\\sklearn\\utils\\validation.py:73: DataConversionWarning: A column-vector y was passed when a 1d array was expected. Please change the shape of y to (n_samples, ), for example using ravel().\n",
      "  return f(**kwargs)\n",
      "C:\\newfolder\\lib\\site-packages\\sklearn\\utils\\validation.py:73: DataConversionWarning: A column-vector y was passed when a 1d array was expected. Please change the shape of y to (n_samples, ), for example using ravel().\n",
      "  return f(**kwargs)\n",
      "C:\\newfolder\\lib\\site-packages\\sklearn\\utils\\validation.py:73: DataConversionWarning: A column-vector y was passed when a 1d array was expected. Please change the shape of y to (n_samples, ), for example using ravel().\n",
      "  return f(**kwargs)\n",
      "C:\\newfolder\\lib\\site-packages\\sklearn\\utils\\validation.py:73: DataConversionWarning: A column-vector y was passed when a 1d array was expected. Please change the shape of y to (n_samples, ), for example using ravel().\n",
      "  return f(**kwargs)\n",
      "C:\\newfolder\\lib\\site-packages\\sklearn\\utils\\validation.py:73: DataConversionWarning: A column-vector y was passed when a 1d array was expected. Please change the shape of y to (n_samples, ), for example using ravel().\n",
      "  return f(**kwargs)\n",
      "C:\\newfolder\\lib\\site-packages\\sklearn\\utils\\validation.py:73: DataConversionWarning: A column-vector y was passed when a 1d array was expected. Please change the shape of y to (n_samples, ), for example using ravel().\n",
      "  return f(**kwargs)\n",
      "C:\\newfolder\\lib\\site-packages\\sklearn\\utils\\validation.py:73: DataConversionWarning: A column-vector y was passed when a 1d array was expected. Please change the shape of y to (n_samples, ), for example using ravel().\n",
      "  return f(**kwargs)\n",
      "C:\\newfolder\\lib\\site-packages\\sklearn\\model_selection\\_validation.py:531: DataConversionWarning: A column-vector y was passed when a 1d array was expected. Please change the shape of y to (n_samples, ), for example using ravel().\n",
      "  estimator.fit(X_train, y_train, **fit_params)\n",
      "C:\\newfolder\\lib\\site-packages\\sklearn\\model_selection\\_validation.py:531: DataConversionWarning: A column-vector y was passed when a 1d array was expected. Please change the shape of y to (n_samples, ), for example using ravel().\n",
      "  estimator.fit(X_train, y_train, **fit_params)\n",
      "C:\\newfolder\\lib\\site-packages\\sklearn\\model_selection\\_validation.py:531: DataConversionWarning: A column-vector y was passed when a 1d array was expected. Please change the shape of y to (n_samples, ), for example using ravel().\n",
      "  estimator.fit(X_train, y_train, **fit_params)\n",
      "C:\\newfolder\\lib\\site-packages\\sklearn\\model_selection\\_validation.py:531: DataConversionWarning: A column-vector y was passed when a 1d array was expected. Please change the shape of y to (n_samples, ), for example using ravel().\n",
      "  estimator.fit(X_train, y_train, **fit_params)\n",
      "C:\\newfolder\\lib\\site-packages\\sklearn\\model_selection\\_validation.py:531: DataConversionWarning: A column-vector y was passed when a 1d array was expected. Please change the shape of y to (n_samples, ), for example using ravel().\n",
      "  estimator.fit(X_train, y_train, **fit_params)\n",
      "C:\\newfolder\\lib\\site-packages\\sklearn\\model_selection\\_validation.py:531: DataConversionWarning: A column-vector y was passed when a 1d array was expected. Please change the shape of y to (n_samples, ), for example using ravel().\n",
      "  estimator.fit(X_train, y_train, **fit_params)\n",
      "C:\\newfolder\\lib\\site-packages\\sklearn\\model_selection\\_validation.py:531: DataConversionWarning: A column-vector y was passed when a 1d array was expected. Please change the shape of y to (n_samples, ), for example using ravel().\n",
      "  estimator.fit(X_train, y_train, **fit_params)\n",
      "C:\\newfolder\\lib\\site-packages\\sklearn\\model_selection\\_validation.py:531: DataConversionWarning: A column-vector y was passed when a 1d array was expected. Please change the shape of y to (n_samples, ), for example using ravel().\n",
      "  estimator.fit(X_train, y_train, **fit_params)\n",
      "C:\\newfolder\\lib\\site-packages\\sklearn\\model_selection\\_validation.py:531: DataConversionWarning: A column-vector y was passed when a 1d array was expected. Please change the shape of y to (n_samples, ), for example using ravel().\n",
      "  estimator.fit(X_train, y_train, **fit_params)\n",
      "C:\\newfolder\\lib\\site-packages\\sklearn\\model_selection\\_validation.py:531: DataConversionWarning: A column-vector y was passed when a 1d array was expected. Please change the shape of y to (n_samples, ), for example using ravel().\n",
      "  estimator.fit(X_train, y_train, **fit_params)\n",
      "C:\\newfolder\\lib\\site-packages\\sklearn\\utils\\validation.py:73: DataConversionWarning: A column-vector y was passed when a 1d array was expected. Please change the shape of y to (n_samples, ), for example using ravel().\n",
      "  return f(**kwargs)\n"
     ]
    },
    {
     "name": "stdout",
     "output_type": "stream",
     "text": [
      "KNN: 0.944310\n",
      "CART: 0.913261\n",
      "NB: 0.869070\n"
     ]
    },
    {
     "name": "stderr",
     "output_type": "stream",
     "text": [
      "C:\\newfolder\\lib\\site-packages\\sklearn\\utils\\validation.py:73: DataConversionWarning: A column-vector y was passed when a 1d array was expected. Please change the shape of y to (n_samples, ), for example using ravel().\n",
      "  return f(**kwargs)\n",
      "C:\\newfolder\\lib\\site-packages\\sklearn\\utils\\validation.py:73: DataConversionWarning: A column-vector y was passed when a 1d array was expected. Please change the shape of y to (n_samples, ), for example using ravel().\n",
      "  return f(**kwargs)\n",
      "C:\\newfolder\\lib\\site-packages\\sklearn\\utils\\validation.py:73: DataConversionWarning: A column-vector y was passed when a 1d array was expected. Please change the shape of y to (n_samples, ), for example using ravel().\n",
      "  return f(**kwargs)\n",
      "C:\\newfolder\\lib\\site-packages\\sklearn\\utils\\validation.py:73: DataConversionWarning: A column-vector y was passed when a 1d array was expected. Please change the shape of y to (n_samples, ), for example using ravel().\n",
      "  return f(**kwargs)\n",
      "C:\\newfolder\\lib\\site-packages\\sklearn\\utils\\validation.py:73: DataConversionWarning: A column-vector y was passed when a 1d array was expected. Please change the shape of y to (n_samples, ), for example using ravel().\n",
      "  return f(**kwargs)\n",
      "C:\\newfolder\\lib\\site-packages\\sklearn\\utils\\validation.py:73: DataConversionWarning: A column-vector y was passed when a 1d array was expected. Please change the shape of y to (n_samples, ), for example using ravel().\n",
      "  return f(**kwargs)\n",
      "C:\\newfolder\\lib\\site-packages\\sklearn\\utils\\validation.py:73: DataConversionWarning: A column-vector y was passed when a 1d array was expected. Please change the shape of y to (n_samples, ), for example using ravel().\n",
      "  return f(**kwargs)\n",
      "C:\\newfolder\\lib\\site-packages\\sklearn\\utils\\validation.py:73: DataConversionWarning: A column-vector y was passed when a 1d array was expected. Please change the shape of y to (n_samples, ), for example using ravel().\n",
      "  return f(**kwargs)\n",
      "C:\\newfolder\\lib\\site-packages\\sklearn\\utils\\validation.py:73: DataConversionWarning: A column-vector y was passed when a 1d array was expected. Please change the shape of y to (n_samples, ), for example using ravel().\n",
      "  return f(**kwargs)\n",
      "C:\\newfolder\\lib\\site-packages\\sklearn\\utils\\validation.py:73: DataConversionWarning: A column-vector y was passed when a 1d array was expected. Please change the shape of y to (n_samples, ), for example using ravel().\n",
      "  return f(**kwargs)\n",
      "C:\\newfolder\\lib\\site-packages\\sklearn\\utils\\validation.py:73: DataConversionWarning: A column-vector y was passed when a 1d array was expected. Please change the shape of y to (n_samples, ), for example using ravel().\n",
      "  return f(**kwargs)\n",
      "C:\\newfolder\\lib\\site-packages\\sklearn\\utils\\validation.py:73: DataConversionWarning: A column-vector y was passed when a 1d array was expected. Please change the shape of y to (n_samples, ), for example using ravel().\n",
      "  return f(**kwargs)\n",
      "C:\\newfolder\\lib\\site-packages\\sklearn\\utils\\validation.py:73: DataConversionWarning: A column-vector y was passed when a 1d array was expected. Please change the shape of y to (n_samples, ), for example using ravel().\n",
      "  return f(**kwargs)\n",
      "C:\\newfolder\\lib\\site-packages\\sklearn\\utils\\validation.py:73: DataConversionWarning: A column-vector y was passed when a 1d array was expected. Please change the shape of y to (n_samples, ), for example using ravel().\n",
      "  return f(**kwargs)\n",
      "C:\\newfolder\\lib\\site-packages\\sklearn\\utils\\validation.py:73: DataConversionWarning: A column-vector y was passed when a 1d array was expected. Please change the shape of y to (n_samples, ), for example using ravel().\n",
      "  return f(**kwargs)\n",
      "C:\\newfolder\\lib\\site-packages\\sklearn\\utils\\validation.py:73: DataConversionWarning: A column-vector y was passed when a 1d array was expected. Please change the shape of y to (n_samples, ), for example using ravel().\n",
      "  return f(**kwargs)\n",
      "C:\\newfolder\\lib\\site-packages\\sklearn\\utils\\validation.py:73: DataConversionWarning: A column-vector y was passed when a 1d array was expected. Please change the shape of y to (n_samples, ), for example using ravel().\n",
      "  return f(**kwargs)\n",
      "C:\\newfolder\\lib\\site-packages\\sklearn\\utils\\validation.py:73: DataConversionWarning: A column-vector y was passed when a 1d array was expected. Please change the shape of y to (n_samples, ), for example using ravel().\n",
      "  return f(**kwargs)\n"
     ]
    },
    {
     "name": "stdout",
     "output_type": "stream",
     "text": [
      "SVM: 0.949398\n"
     ]
    },
    {
     "name": "stderr",
     "output_type": "stream",
     "text": [
      "C:\\newfolder\\lib\\site-packages\\sklearn\\utils\\validation.py:73: DataConversionWarning: A column-vector y was passed when a 1d array was expected. Please change the shape of y to (n_samples, ), for example using ravel().\n",
      "  return f(**kwargs)\n"
     ]
    },
    {
     "data": {
      "image/png": "[encoded data removed]",
      "text/plain": [
       "<Figure size 432x288 with 1 Axes>"
      ]
     },
     "metadata": {},
     "output_type": "display_data"
    }
   ],
   "source": [
    "results=[]\n",
    "names=[]\n",
    "res=[]\n",
    "for name,model in models:\n",
    "    kfold = StratifiedKFold(n_splits=10,random_state=None)\n",
    "    cv_results=cross_val_score(model,x_train,y_train,cv=kfold,scoring='accuracy')\n",
    "    results.append(cv_results)\n",
    "    names.append(name)\n",
    "    res.append(cv_results.mean())\n",
    "    print('%s: %f' % (name,cv_results.mean()))\n",
    "    \n",
    "plt.pie(res,labels=names)\n",
    "\n",
    "plt.title('ALGORITHM COMPARISON')\n",
    "plt.show()\n"
   ]
  },
  {
   "cell_type": "markdown",
   "metadata": {},
   "source": [
    "# Kmeans"
   ]
  },
  {
   "cell_type": "code",
   "execution_count": 21,
   "metadata": {},
   "outputs": [
    {
     "data": {
      "image/png": "[encoded data removed]",
      "text/plain": [
       "<Figure size 432x288 with 1 Axes>"
      ]
     },
     "metadata": {},
     "output_type": "display_data"
    }
   ],
   "source": [
    "from sklearn.cluster import KMeans\n",
    "wcss=[]\n",
    "for i in range(1,11):\n",
    "    km=KMeans(n_clusters=i,random_state=0)\n",
    "    km.fit(x)\n",
    "    wcss.append(km.inertia_)\n",
    "plt.plot(range(1,11),wcss,color='blue',marker='*')\n",
    "plt.title('optimal k values')\n",
    "plt.xlabel('no/. of clusters')\n",
    "plt.ylabel('wcss')\n",
    "plt.show()"
   ]
  },
  {
   "cell_type": "code",
   "execution_count": 22,
   "metadata": {},
   "outputs": [
    {
     "data": {
      "text/plain": [
       "array([1, 4, 5, ..., 4, 6, 2])"
      ]
     },
     "execution_count": 22,
     "metadata": {},
     "output_type": "execute_result"
    }
   ],
   "source": [
    "model=KMeans(n_clusters=7,random_state=0)\n",
    "y_means=model.fit_predict(x)\n",
    "y_means"
   ]
  },
  {
   "cell_type": "code",
   "execution_count": 23,
   "metadata": {},
   "outputs": [
    {
     "data": {
      "image/png": "[encoded data removed]",
      "text/plain": [
       "<Figure size 1152x576 with 1 Axes>"
      ]
     },
     "metadata": {},
     "output_type": "display_data"
    }
   ],
   "source": [
    "#dendrogram data visualization\n",
    "\n",
    "import scipy.cluster.hierarchy as clus\n",
    "plt.figure(1,figsize = (16,8))\n",
    "dendrogram = clus.dendrogram(clus.linkage(df,method = \"ward\"))\n",
    "\n",
    "plt.title(\"Dendrogram Tree Graph\")\n",
    "plt.xlabel('Customer')\n",
    "plt.ylabel(\"Distance\")\n",
    "plt.show()"
   ]
  },
  {
   "cell_type": "markdown",
   "metadata": {},
   "source": [
    "# LINEAR DICRIMINANT ANALYSIS"
   ]
  },
  {
   "cell_type": "code",
   "execution_count": 24,
   "metadata": {},
   "outputs": [],
   "source": [
    "from sklearn.discriminant_analysis import LinearDiscriminantAnalysis\n",
    "from sklearn.metrics import classification_report\n",
    "from sklearn import metrics"
   ]
  },
  {
   "cell_type": "code",
   "execution_count": 25,
   "metadata": {},
   "outputs": [
    {
     "name": "stderr",
     "output_type": "stream",
     "text": [
      "C:\\newfolder\\lib\\site-packages\\sklearn\\utils\\validation.py:73: DataConversionWarning: A column-vector y was passed when a 1d array was expected. Please change the shape of y to (n_samples, ), for example using ravel().\n",
      "  return f(**kwargs)\n"
     ]
    },
    {
     "data": {
      "text/plain": [
       "0.9475234270414993"
      ]
     },
     "execution_count": 25,
     "metadata": {},
     "output_type": "execute_result"
    }
   ],
   "source": [
    "#model train & test\n",
    "clf=LinearDiscriminantAnalysis()\n",
    "clf.fit(x_train,y_train)\n",
    "clf.score(x_train,y_train)"
   ]
  },
  {
   "cell_type": "code",
   "execution_count": 26,
   "metadata": {},
   "outputs": [
    {
     "data": {
      "text/plain": [
       "array([0, 0, 0, ..., 0, 0, 0], dtype=int64)"
      ]
     },
     "execution_count": 26,
     "metadata": {},
     "output_type": "execute_result"
    }
   ],
   "source": [
    "y_pred=clf.predict(x_test)\n",
    "y_pred"
   ]
  },
  {
   "cell_type": "code",
   "execution_count": 27,
   "metadata": {},
   "outputs": [
    {
     "name": "stdout",
     "output_type": "stream",
     "text": [
      "              precision    recall  f1-score   support\n",
      "\n",
      "           0       0.95      0.99      0.97      1187\n",
      "           1       0.22      0.03      0.06        59\n",
      "\n",
      "    accuracy                           0.95      1246\n",
      "   macro avg       0.59      0.51      0.52      1246\n",
      "weighted avg       0.92      0.95      0.93      1246\n",
      "\n"
     ]
    }
   ],
   "source": [
    "#evaluation\n",
    "\n",
    "print(classification_report(y_test,y_pred))"
   ]
  },
  {
   "cell_type": "code",
   "execution_count": 28,
   "metadata": {},
   "outputs": [
    {
     "data": {
      "text/plain": [
       "<matplotlib.legend.Legend at 0x16f487e6940>"
      ]
     },
     "execution_count": 28,
     "metadata": {},
     "output_type": "execute_result"
    },
    {
     "data": {
      "image/png": "[encoded data removed]",
      "text/plain": [
       "<Figure size 432x288 with 1 Axes>"
      ]
     },
     "metadata": {},
     "output_type": "display_data"
    }
   ],
   "source": [
    "fpr,tpr,thresholds = metrics.roc_curve(y_test,y_pred)\n",
    "roc_auc=metrics.auc(fpr,tpr)\n",
    "roc_auc\n",
    "plt.clf()\n",
    "plt.plot(fpr,tpr,label=\"ROC Curve (are=%0.2f)\" %roc_auc)\n",
    "plt.plot([0,1],[0,1],'k--')\n",
    "plt.legend(loc=\"lower right\")"
   ]
  },
  {
   "cell_type": "code",
   "execution_count": 29,
   "metadata": {},
   "outputs": [
    {
     "name": "stdout",
     "output_type": "stream",
     "text": [
      "Prediction using LinearDiscriminatAnalysis\n",
      "[1]\n",
      "Class:1\n"
     ]
    },
    {
     "name": "stderr",
     "output_type": "stream",
     "text": [
      "C:\\newfolder\\lib\\site-packages\\sklearn\\utils\\validation.py:73: DataConversionWarning: A column-vector y was passed when a 1d array was expected. Please change the shape of y to (n_samples, ), for example using ravel().\n",
      "  return f(**kwargs)\n"
     ]
    }
   ],
   "source": [
    "#prediction using linear discriminant analysis\n",
    "clf.fit(x_train,y_train)\n",
    "values=[[40.  ,   0.  ,   0.  ,  83.94,  30.]]\n",
    "y_pred=clf.predict(values)\n",
    "print(\"Prediction using LinearDiscriminatAnalysis\")\n",
    "print(y_pred)\n",
    "if y_pred==1:\n",
    "    print(\"Class:1\")\n",
    "else:\n",
    "    print(\"Class:0\")"
   ]
  },
  {
   "cell_type": "markdown",
   "metadata": {},
   "source": [
    "# KNN ALGORITHM"
   ]
  },
  {
   "cell_type": "code",
   "execution_count": 30,
   "metadata": {},
   "outputs": [
    {
     "name": "stderr",
     "output_type": "stream",
     "text": [
      "<ipython-input-30-d00fa17da6b4>:2: DataConversionWarning: A column-vector y was passed when a 1d array was expected. Please change the shape of y to (n_samples, ), for example using ravel().\n",
      "  model.fit(x_train,y_train)\n"
     ]
    },
    {
     "data": {
      "text/plain": [
       "KNeighborsClassifier()"
      ]
     },
     "execution_count": 30,
     "metadata": {},
     "output_type": "execute_result"
    }
   ],
   "source": [
    "model=KNeighborsClassifier()\n",
    "model.fit(x_train,y_train)"
   ]
  },
  {
   "cell_type": "code",
   "execution_count": 31,
   "metadata": {},
   "outputs": [],
   "source": [
    "y_pred = model.predict(x_test)"
   ]
  },
  {
   "cell_type": "code",
   "execution_count": 32,
   "metadata": {},
   "outputs": [
    {
     "name": "stderr",
     "output_type": "stream",
     "text": [
      "<ipython-input-32-a8f77f73172c>:7: DataConversionWarning: A column-vector y was passed when a 1d array was expected. Please change the shape of y to (n_samples, ), for example using ravel().\n",
      "  model.fit(x_train,y_train)\n",
      "<ipython-input-32-a8f77f73172c>:7: DataConversionWarning: A column-vector y was passed when a 1d array was expected. Please change the shape of y to (n_samples, ), for example using ravel().\n",
      "  model.fit(x_train,y_train)\n",
      "<ipython-input-32-a8f77f73172c>:7: DataConversionWarning: A column-vector y was passed when a 1d array was expected. Please change the shape of y to (n_samples, ), for example using ravel().\n",
      "  model.fit(x_train,y_train)\n",
      "<ipython-input-32-a8f77f73172c>:7: DataConversionWarning: A column-vector y was passed when a 1d array was expected. Please change the shape of y to (n_samples, ), for example using ravel().\n",
      "  model.fit(x_train,y_train)\n",
      "<ipython-input-32-a8f77f73172c>:7: DataConversionWarning: A column-vector y was passed when a 1d array was expected. Please change the shape of y to (n_samples, ), for example using ravel().\n",
      "  model.fit(x_train,y_train)\n",
      "<ipython-input-32-a8f77f73172c>:7: DataConversionWarning: A column-vector y was passed when a 1d array was expected. Please change the shape of y to (n_samples, ), for example using ravel().\n",
      "  model.fit(x_train,y_train)\n",
      "<ipython-input-32-a8f77f73172c>:7: DataConversionWarning: A column-vector y was passed when a 1d array was expected. Please change the shape of y to (n_samples, ), for example using ravel().\n",
      "  model.fit(x_train,y_train)\n",
      "<ipython-input-32-a8f77f73172c>:7: DataConversionWarning: A column-vector y was passed when a 1d array was expected. Please change the shape of y to (n_samples, ), for example using ravel().\n",
      "  model.fit(x_train,y_train)\n",
      "<ipython-input-32-a8f77f73172c>:7: DataConversionWarning: A column-vector y was passed when a 1d array was expected. Please change the shape of y to (n_samples, ), for example using ravel().\n",
      "  model.fit(x_train,y_train)\n",
      "<ipython-input-32-a8f77f73172c>:7: DataConversionWarning: A column-vector y was passed when a 1d array was expected. Please change the shape of y to (n_samples, ), for example using ravel().\n",
      "  model.fit(x_train,y_train)\n",
      "<ipython-input-32-a8f77f73172c>:7: DataConversionWarning: A column-vector y was passed when a 1d array was expected. Please change the shape of y to (n_samples, ), for example using ravel().\n",
      "  model.fit(x_train,y_train)\n",
      "<ipython-input-32-a8f77f73172c>:7: DataConversionWarning: A column-vector y was passed when a 1d array was expected. Please change the shape of y to (n_samples, ), for example using ravel().\n",
      "  model.fit(x_train,y_train)\n",
      "<ipython-input-32-a8f77f73172c>:7: DataConversionWarning: A column-vector y was passed when a 1d array was expected. Please change the shape of y to (n_samples, ), for example using ravel().\n",
      "  model.fit(x_train,y_train)\n",
      "<ipython-input-32-a8f77f73172c>:7: DataConversionWarning: A column-vector y was passed when a 1d array was expected. Please change the shape of y to (n_samples, ), for example using ravel().\n",
      "  model.fit(x_train,y_train)\n",
      "<ipython-input-32-a8f77f73172c>:7: DataConversionWarning: A column-vector y was passed when a 1d array was expected. Please change the shape of y to (n_samples, ), for example using ravel().\n",
      "  model.fit(x_train,y_train)\n",
      "<ipython-input-32-a8f77f73172c>:7: DataConversionWarning: A column-vector y was passed when a 1d array was expected. Please change the shape of y to (n_samples, ), for example using ravel().\n",
      "  model.fit(x_train,y_train)\n",
      "<ipython-input-32-a8f77f73172c>:7: DataConversionWarning: A column-vector y was passed when a 1d array was expected. Please change the shape of y to (n_samples, ), for example using ravel().\n",
      "  model.fit(x_train,y_train)\n",
      "<ipython-input-32-a8f77f73172c>:7: DataConversionWarning: A column-vector y was passed when a 1d array was expected. Please change the shape of y to (n_samples, ), for example using ravel().\n",
      "  model.fit(x_train,y_train)\n",
      "<ipython-input-32-a8f77f73172c>:7: DataConversionWarning: A column-vector y was passed when a 1d array was expected. Please change the shape of y to (n_samples, ), for example using ravel().\n",
      "  model.fit(x_train,y_train)\n",
      "<ipython-input-32-a8f77f73172c>:7: DataConversionWarning: A column-vector y was passed when a 1d array was expected. Please change the shape of y to (n_samples, ), for example using ravel().\n",
      "  model.fit(x_train,y_train)\n",
      "<ipython-input-32-a8f77f73172c>:7: DataConversionWarning: A column-vector y was passed when a 1d array was expected. Please change the shape of y to (n_samples, ), for example using ravel().\n",
      "  model.fit(x_train,y_train)\n",
      "<ipython-input-32-a8f77f73172c>:7: DataConversionWarning: A column-vector y was passed when a 1d array was expected. Please change the shape of y to (n_samples, ), for example using ravel().\n",
      "  model.fit(x_train,y_train)\n",
      "<ipython-input-32-a8f77f73172c>:7: DataConversionWarning: A column-vector y was passed when a 1d array was expected. Please change the shape of y to (n_samples, ), for example using ravel().\n",
      "  model.fit(x_train,y_train)\n",
      "<ipython-input-32-a8f77f73172c>:7: DataConversionWarning: A column-vector y was passed when a 1d array was expected. Please change the shape of y to (n_samples, ), for example using ravel().\n",
      "  model.fit(x_train,y_train)\n",
      "<ipython-input-32-a8f77f73172c>:7: DataConversionWarning: A column-vector y was passed when a 1d array was expected. Please change the shape of y to (n_samples, ), for example using ravel().\n",
      "  model.fit(x_train,y_train)\n",
      "<ipython-input-32-a8f77f73172c>:7: DataConversionWarning: A column-vector y was passed when a 1d array was expected. Please change the shape of y to (n_samples, ), for example using ravel().\n",
      "  model.fit(x_train,y_train)\n",
      "<ipython-input-32-a8f77f73172c>:7: DataConversionWarning: A column-vector y was passed when a 1d array was expected. Please change the shape of y to (n_samples, ), for example using ravel().\n",
      "  model.fit(x_train,y_train)\n",
      "<ipython-input-32-a8f77f73172c>:7: DataConversionWarning: A column-vector y was passed when a 1d array was expected. Please change the shape of y to (n_samples, ), for example using ravel().\n",
      "  model.fit(x_train,y_train)\n",
      "<ipython-input-32-a8f77f73172c>:7: DataConversionWarning: A column-vector y was passed when a 1d array was expected. Please change the shape of y to (n_samples, ), for example using ravel().\n",
      "  model.fit(x_train,y_train)\n",
      "<ipython-input-32-a8f77f73172c>:7: DataConversionWarning: A column-vector y was passed when a 1d array was expected. Please change the shape of y to (n_samples, ), for example using ravel().\n",
      "  model.fit(x_train,y_train)\n",
      "<ipython-input-32-a8f77f73172c>:7: DataConversionWarning: A column-vector y was passed when a 1d array was expected. Please change the shape of y to (n_samples, ), for example using ravel().\n",
      "  model.fit(x_train,y_train)\n",
      "<ipython-input-32-a8f77f73172c>:7: DataConversionWarning: A column-vector y was passed when a 1d array was expected. Please change the shape of y to (n_samples, ), for example using ravel().\n",
      "  model.fit(x_train,y_train)\n",
      "<ipython-input-32-a8f77f73172c>:7: DataConversionWarning: A column-vector y was passed when a 1d array was expected. Please change the shape of y to (n_samples, ), for example using ravel().\n",
      "  model.fit(x_train,y_train)\n",
      "<ipython-input-32-a8f77f73172c>:7: DataConversionWarning: A column-vector y was passed when a 1d array was expected. Please change the shape of y to (n_samples, ), for example using ravel().\n",
      "  model.fit(x_train,y_train)\n",
      "<ipython-input-32-a8f77f73172c>:7: DataConversionWarning: A column-vector y was passed when a 1d array was expected. Please change the shape of y to (n_samples, ), for example using ravel().\n",
      "  model.fit(x_train,y_train)\n",
      "<ipython-input-32-a8f77f73172c>:7: DataConversionWarning: A column-vector y was passed when a 1d array was expected. Please change the shape of y to (n_samples, ), for example using ravel().\n",
      "  model.fit(x_train,y_train)\n",
      "<ipython-input-32-a8f77f73172c>:7: DataConversionWarning: A column-vector y was passed when a 1d array was expected. Please change the shape of y to (n_samples, ), for example using ravel().\n",
      "  model.fit(x_train,y_train)\n",
      "<ipython-input-32-a8f77f73172c>:7: DataConversionWarning: A column-vector y was passed when a 1d array was expected. Please change the shape of y to (n_samples, ), for example using ravel().\n",
      "  model.fit(x_train,y_train)\n",
      "<ipython-input-32-a8f77f73172c>:7: DataConversionWarning: A column-vector y was passed when a 1d array was expected. Please change the shape of y to (n_samples, ), for example using ravel().\n",
      "  model.fit(x_train,y_train)\n"
     ]
    },
    {
     "data": {
      "text/plain": [
       "Text(0, 0.5, 'mean error')"
      ]
     },
     "execution_count": 32,
     "metadata": {},
     "output_type": "execute_result"
    },
    {
     "data": {
      "image/png": "[encoded data removed]",
      "text/plain": [
       "<Figure size 864x432 with 1 Axes>"
      ]
     },
     "metadata": {},
     "output_type": "display_data"
    }
   ],
   "source": [
    "#calculating error for the K values\n",
    "error=[]\n",
    "from sklearn.neighbors import KNeighborsClassifier\n",
    "import matplotlib.pyplot as plt\n",
    "for i in range(1,40):\n",
    "    model=KNeighborsClassifier(n_neighbors=i)\n",
    "    model.fit(x_train,y_train)\n",
    "    pred_i=model.predict(x_test)\n",
    "    error.append(np.mean(pred_i!=y_test))\n",
    "\n",
    "plt.figure(figsize=(12,6))\n",
    "plt.plot(range(1,40),error,color='blue',marker='o',markerfacecolor='yellow',markersize=10)\n",
    "plt.title('error rate of K value')\n",
    "plt.xlabel('K value')\n",
    "plt.ylabel('mean error')"
   ]
  },
  {
   "cell_type": "code",
   "execution_count": 33,
   "metadata": {},
   "outputs": [
    {
     "name": "stdout",
     "output_type": "stream",
     "text": [
      "              precision    recall  f1-score   support\n",
      "\n",
      "           0       0.95      1.00      0.97      1187\n",
      "           1       0.00      0.00      0.00        59\n",
      "\n",
      "    accuracy                           0.95      1246\n",
      "   macro avg       0.48      0.50      0.49      1246\n",
      "weighted avg       0.91      0.95      0.93      1246\n",
      "\n",
      "[[1182    5]\n",
      " [  59    0]]\n"
     ]
    }
   ],
   "source": [
    "print(classification_report(y_test,y_pred))\n",
    "print(confusion_matrix(y_test,y_pred))"
   ]
  },
  {
   "cell_type": "code",
   "execution_count": 34,
   "metadata": {},
   "outputs": [
    {
     "name": "stdout",
     "output_type": "stream",
     "text": [
      "Prediction using LKNeighborsClassifier\n",
      "[1]\n",
      "Class: 1\n"
     ]
    },
    {
     "name": "stderr",
     "output_type": "stream",
     "text": [
      "<ipython-input-34-80d95d4c3a15>:2: DataConversionWarning: A column-vector y was passed when a 1d array was expected. Please change the shape of y to (n_samples, ), for example using ravel().\n",
      "  model.fit(x_train,y_train)\n"
     ]
    }
   ],
   "source": [
    "model=KNeighborsClassifier()\n",
    "model.fit(x_train,y_train)\n",
    "values=[[40.  ,   0.  ,   0.  ,  83.94,  30.]]\n",
    "y_pred=model.predict(values)\n",
    "print(\"Prediction using LKNeighborsClassifier\")\n",
    "print(y_pred)\n",
    "if y_pred==1:\n",
    " print(\"Class: 1\")\n",
    "else:\n",
    " print(\"Class: 0\")"
   ]
  },
  {
   "cell_type": "markdown",
   "metadata": {},
   "source": [
    "# SVM"
   ]
  },
  {
   "cell_type": "code",
   "execution_count": 35,
   "metadata": {},
   "outputs": [
    {
     "name": "stderr",
     "output_type": "stream",
     "text": [
      "C:\\newfolder\\lib\\site-packages\\sklearn\\utils\\validation.py:73: DataConversionWarning: A column-vector y was passed when a 1d array was expected. Please change the shape of y to (n_samples, ), for example using ravel().\n",
      "  return f(**kwargs)\n",
      "C:\\newfolder\\lib\\site-packages\\sklearn\\utils\\validation.py:73: DataConversionWarning: A column-vector y was passed when a 1d array was expected. Please change the shape of y to (n_samples, ), for example using ravel().\n",
      "  return f(**kwargs)\n",
      "C:\\newfolder\\lib\\site-packages\\sklearn\\utils\\validation.py:73: DataConversionWarning: A column-vector y was passed when a 1d array was expected. Please change the shape of y to (n_samples, ), for example using ravel().\n",
      "  return f(**kwargs)\n",
      "C:\\newfolder\\lib\\site-packages\\sklearn\\utils\\validation.py:73: DataConversionWarning: A column-vector y was passed when a 1d array was expected. Please change the shape of y to (n_samples, ), for example using ravel().\n",
      "  return f(**kwargs)\n"
     ]
    }
   ],
   "source": [
    "from sklearn import svm\n",
    "model1=svm.SVC(kernel='linear')\n",
    "model2=svm.SVC(kernel='rbf')\n",
    "model3=svm.SVC(gamma=0.001)\n",
    "model4=svm.SVC(gamma=0.001,C=0.1)\n",
    "model1.fit(x_train,y_train)\n",
    "model2.fit(x_train,y_train)\n",
    "model3.fit(x_train,y_train)\n",
    "model4.fit(x_train,y_train)\n",
    "y_predModel1=model1.predict(x_test)\n",
    "y_predModel2=model2.predict(x_test)\n",
    "y_predModel3=model3.predict(x_test)\n",
    "y_predModel4=model4.predict(x_test)\n"
   ]
  },
  {
   "cell_type": "code",
   "execution_count": 36,
   "metadata": {},
   "outputs": [
    {
     "name": "stderr",
     "output_type": "stream",
     "text": [
      "C:\\newfolder\\lib\\site-packages\\sklearn\\utils\\validation.py:73: DataConversionWarning: A column-vector y was passed when a 1d array was expected. Please change the shape of y to (n_samples, ), for example using ravel().\n",
      "  return f(**kwargs)\n"
     ]
    },
    {
     "name": "stdout",
     "output_type": "stream",
     "text": [
      "Prediction using SVC\n",
      "[0]\n",
      "Class: 0\n"
     ]
    }
   ],
   "source": [
    "model=SVC(gamma='auto')\n",
    "model.fit(x_train,y_train)\n",
    "values=[[40.  ,   0.  ,   0.  ,  83.94,  30.]]\n",
    "y_pred=model.predict(values)\n",
    "print(\"Prediction using SVC\")\n",
    "print(y_pred)\n",
    "if y_pred==1:\n",
    " print(\"Class: 1\")\n",
    "else:\n",
    " print(\"Class: 0\")"
   ]
  },
  {
   "cell_type": "markdown",
   "metadata": {},
   "source": [
    "# logistic regression"
   ]
  },
  {
   "cell_type": "code",
   "execution_count": 37,
   "metadata": {},
   "outputs": [
    {
     "name": "stderr",
     "output_type": "stream",
     "text": [
      "C:\\newfolder\\lib\\site-packages\\sklearn\\utils\\validation.py:73: DataConversionWarning: A column-vector y was passed when a 1d array was expected. Please change the shape of y to (n_samples, ), for example using ravel().\n",
      "  return f(**kwargs)\n"
     ]
    },
    {
     "data": {
      "text/plain": [
       "LogisticRegression()"
      ]
     },
     "execution_count": 37,
     "metadata": {},
     "output_type": "execute_result"
    }
   ],
   "source": [
    "from sklearn.linear_model import LogisticRegression\n",
    "model=LogisticRegression()\n",
    "model.fit(x_train,y_train)"
   ]
  },
  {
   "cell_type": "code",
   "execution_count": 38,
   "metadata": {},
   "outputs": [
    {
     "name": "stdout",
     "output_type": "stream",
     "text": [
      "[[0 0]\n",
      " [0 0]\n",
      " [0 0]\n",
      " ...\n",
      " [0 0]\n",
      " [0 0]\n",
      " [0 0]]\n"
     ]
    }
   ],
   "source": [
    "y_pred=model.predict(x_test)\n",
    "print(np.concatenate((y_pred.reshape(len(y_pred),1),y_test.reshape(len(y_test),1)),1))"
   ]
  },
  {
   "cell_type": "code",
   "execution_count": 39,
   "metadata": {},
   "outputs": [
    {
     "name": "stdout",
     "output_type": "stream",
     "text": [
      "[0 0 0 ... 0 0 0]\n"
     ]
    }
   ],
   "source": [
    "y_pred=model.predict(x_test)\n",
    "print(y_pred)"
   ]
  },
  {
   "cell_type": "code",
   "execution_count": 40,
   "metadata": {},
   "outputs": [],
   "source": [
    "#confusion matrix and accuracy"
   ]
  },
  {
   "cell_type": "code",
   "execution_count": 41,
   "metadata": {},
   "outputs": [
    {
     "name": "stdout",
     "output_type": "stream",
     "text": [
      "confussion matrix: [[1187    0]\n",
      " [  59    0]]\n",
      "accuracy of the model:95.26484751203851%\n"
     ]
    }
   ],
   "source": [
    "from sklearn.metrics import confusion_matrix,accuracy_score\n",
    "cm=confusion_matrix(y_test,y_pred)\n",
    "print(\"confussion matrix:\",cm)\n",
    "print(\"accuracy of the model:{0}%\".format(accuracy_score(y_test,y_pred)*100))"
   ]
  },
  {
   "cell_type": "code",
   "execution_count": 42,
   "metadata": {},
   "outputs": [
    {
     "name": "stdout",
     "output_type": "stream",
     "text": [
      "Logistic regression\n",
      "[1]\n",
      "Class: 1\n"
     ]
    },
    {
     "name": "stderr",
     "output_type": "stream",
     "text": [
      "C:\\newfolder\\lib\\site-packages\\sklearn\\utils\\validation.py:73: DataConversionWarning: A column-vector y was passed when a 1d array was expected. Please change the shape of y to (n_samples, ), for example using ravel().\n",
      "  return f(**kwargs)\n"
     ]
    }
   ],
   "source": [
    "#predicting \n",
    "\n",
    "model=LogisticRegression(solver='liblinear',multi_class='ovr')\n",
    "model.fit(x_train,y_train)\n",
    "values=[[40.  ,   0.  ,   0.  ,  83.94,  30.]]\n",
    "y_pred=model.predict(values)\n",
    "print(\"Logistic regression\")\n",
    "print(y_pred)\n",
    "if y_pred==1:\n",
    " print(\"Class: 1\")\n",
    "else:\n",
    " print(\"Class: 0\")"
   ]
  },
  {
   "cell_type": "code",
   "execution_count": 43,
   "metadata": {},
   "outputs": [],
   "source": [
    "##IMPLEMENTATION OF MULTI LINEAR REGRESSION MODEL"
   ]
  },
  {
   "cell_type": "code",
   "execution_count": 44,
   "metadata": {},
   "outputs": [],
   "source": [
    "da=pd.read_csv(r'C:\\Users\\Malini\\Downloads\\insurance.csv')"
   ]
  },
  {
   "cell_type": "code",
   "execution_count": 45,
   "metadata": {},
   "outputs": [],
   "source": [
    "da['sex']=da['sex'].astype('category')\n",
    "da['sex']=da['sex'].cat.codes\n",
    "\n",
    "da['smoker']=da['smoker'].astype('category')\n",
    "da['smoker']=da['smoker'].cat.codes\n",
    "\n",
    "da['region']=da['region'].astype('category')\n",
    "da['region']=da['region'].cat.codes\n",
    "\n"
   ]
  },
  {
   "cell_type": "code",
   "execution_count": 46,
   "metadata": {
    "scrolled": true
   },
   "outputs": [
    {
     "data": {
      "text/plain": [
       "array([[19.  ,  0.  , 27.9 ,  0.  ,  1.  ,  3.  ],\n",
       "       [18.  ,  1.  , 33.77,  1.  ,  0.  ,  2.  ],\n",
       "       [28.  ,  1.  , 33.  ,  3.  ,  0.  ,  2.  ],\n",
       "       ...,\n",
       "       [18.  ,  0.  , 36.85,  0.  ,  0.  ,  2.  ],\n",
       "       [21.  ,  0.  , 25.8 ,  0.  ,  0.  ,  3.  ],\n",
       "       [61.  ,  0.  , 29.07,  0.  ,  1.  ,  1.  ]])"
      ]
     },
     "execution_count": 46,
     "metadata": {},
     "output_type": "execute_result"
    }
   ],
   "source": [
    "x=da.iloc[:,:-1].values\n",
    "x"
   ]
  },
  {
   "cell_type": "code",
   "execution_count": 47,
   "metadata": {},
   "outputs": [
    {
     "data": {
      "text/plain": [
       "array([[16884.924 ],\n",
       "       [ 1725.5523],\n",
       "       [ 4449.462 ],\n",
       "       ...,\n",
       "       [ 1629.8335],\n",
       "       [ 2007.945 ],\n",
       "       [29141.3603]])"
      ]
     },
     "execution_count": 47,
     "metadata": {},
     "output_type": "execute_result"
    }
   ],
   "source": [
    "y=da.iloc[:,-1:].values\n",
    "y"
   ]
  },
  {
   "cell_type": "markdown",
   "metadata": {},
   "source": [
    "# IMPLEMENTATION OF MULTI LINEAR REGRESSION MODEL"
   ]
  },
  {
   "cell_type": "code",
   "execution_count": 48,
   "metadata": {},
   "outputs": [],
   "source": [
    "from sklearn.model_selection import train_test_split\n",
    "x_train,x_test,y_train,y_test= train_test_split(x,y,test_size=0.3,random_state=0)"
   ]
  },
  {
   "cell_type": "code",
   "execution_count": 49,
   "metadata": {},
   "outputs": [],
   "source": [
    "from sklearn.linear_model import LinearRegression\n",
    "lr=LinearRegression()"
   ]
  },
  {
   "cell_type": "code",
   "execution_count": 50,
   "metadata": {},
   "outputs": [
    {
     "data": {
      "text/plain": [
       "LinearRegression()"
      ]
     },
     "execution_count": 50,
     "metadata": {},
     "output_type": "execute_result"
    }
   ],
   "source": [
    "lr.fit(x_train,y_train)"
   ]
  },
  {
   "cell_type": "code",
   "execution_count": 51,
   "metadata": {},
   "outputs": [],
   "source": [
    "c=lr.intercept_"
   ]
  },
  {
   "cell_type": "code",
   "execution_count": 52,
   "metadata": {},
   "outputs": [
    {
     "data": {
      "text/plain": [
       "array([-11827.7331418])"
      ]
     },
     "execution_count": 52,
     "metadata": {},
     "output_type": "execute_result"
    }
   ],
   "source": [
    "c"
   ]
  },
  {
   "cell_type": "code",
   "execution_count": 53,
   "metadata": {},
   "outputs": [
    {
     "data": {
      "text/plain": [
       "array([[  256.5772619 ,   -49.39232379,   329.02381564,   479.08499828,\n",
       "        23400.28378787,  -276.31576201]])"
      ]
     },
     "execution_count": 53,
     "metadata": {},
     "output_type": "execute_result"
    }
   ],
   "source": [
    "m=lr.coef_\n",
    "m"
   ]
  },
  {
   "cell_type": "code",
   "execution_count": 54,
   "metadata": {},
   "outputs": [
    {
     "data": {
      "text/plain": [
       "array([[ 2074.0645306 ],\n",
       "       [ 8141.81393908],\n",
       "       [18738.94132528],\n",
       "       [ 7874.86959064],\n",
       "       [ 6305.12726989],\n",
       "       [ 2023.19725425],\n",
       "       [26861.18663021],\n",
       "       [14932.93021746],\n",
       "       [10489.56733846],\n",
       "       [16254.02800921],\n",
       "       [11726.39324257],\n",
       "       [11284.0092172 ],\n",
       "       [39312.16870908],\n",
       "       [ 5825.91078917],\n",
       "       [12314.92042527],\n",
       "       [ 3164.68427134],\n",
       "       [15406.30681252],\n",
       "       [ 4648.58167988],\n",
       "       [ 5011.79585436],\n",
       "       [ 6012.4796038 ],\n",
       "       [15349.49652486],\n",
       "       [ 8970.97358853],\n",
       "       [ 8780.43012222],\n",
       "       [34229.60622887],\n",
       "       [ 6700.80932636],\n",
       "       [26943.25864121],\n",
       "       [27280.48004482],\n",
       "       [15477.83837581],\n",
       "       [ 8825.62578924],\n",
       "       [34394.38378457],\n",
       "       [10177.85528603],\n",
       "       [ 3901.18161227],\n",
       "       [15608.58732963],\n",
       "       [29584.76846515],\n",
       "       [29453.37088923],\n",
       "       [28132.67012427],\n",
       "       [10003.22154888],\n",
       "       [33049.08935397],\n",
       "       [ 3963.45204974],\n",
       "       [25461.54857001],\n",
       "       [ 5656.76892592],\n",
       "       [27993.86773531],\n",
       "       [ 7049.4472544 ],\n",
       "       [15100.38851758],\n",
       "       [ 2552.92266861],\n",
       "       [35458.5756605 ],\n",
       "       [15250.90732084],\n",
       "       [ 3190.28483443],\n",
       "       [ 1768.85441295],\n",
       "       [10155.17603664],\n",
       "       [ 9937.89476088],\n",
       "       [11225.91583863],\n",
       "       [16776.25691816],\n",
       "       [ 4332.14442527],\n",
       "       [ 1904.56473771],\n",
       "       [ 4169.01766783],\n",
       "       [ 5586.26152347],\n",
       "       [ 6181.88067913],\n",
       "       [26788.8656339 ],\n",
       "       [14126.13855797],\n",
       "       [11861.37395532],\n",
       "       [ 7811.00983646],\n",
       "       [14043.16898219],\n",
       "       [ 2761.62716836],\n",
       "       [13245.886833  ],\n",
       "       [11768.08899683],\n",
       "       [ 1979.53264953],\n",
       "       [ 1004.70130715],\n",
       "       [36800.01548491],\n",
       "       [ 7337.39948485],\n",
       "       [ 9016.87626313],\n",
       "       [ 2197.43885099],\n",
       "       [11522.76560606],\n",
       "       [ 7722.68648352],\n",
       "       [11766.49141567],\n",
       "       [25673.41065575],\n",
       "       [27094.55413975],\n",
       "       [ 8386.55039897],\n",
       "       [ 7851.02612612],\n",
       "       [  340.5541035 ],\n",
       "       [ 4812.77154806],\n",
       "       [ 7653.38621355],\n",
       "       [ 3335.8737924 ],\n",
       "       [ 8277.91415433],\n",
       "       [ 1727.07582017],\n",
       "       [ 4469.3512268 ],\n",
       "       [33273.43493881],\n",
       "       [ 5960.10203273],\n",
       "       [11514.72887612],\n",
       "       [ 9076.67077562],\n",
       "       [31445.7194256 ],\n",
       "       [11381.75279488],\n",
       "       [11464.45517614],\n",
       "       [ 4744.19913099],\n",
       "       [ 6959.16143068],\n",
       "       [ 5558.39697169],\n",
       "       [ 5082.89311652],\n",
       "       [ 9788.2815884 ],\n",
       "       [31360.93228849],\n",
       "       [ 3182.21328435],\n",
       "       [37708.34391043],\n",
       "       [10814.52053521],\n",
       "       [ 8936.63917176],\n",
       "       [ 3082.15463971],\n",
       "       [11928.53837714],\n",
       "       [30612.08362018],\n",
       "       [ 2768.14633037],\n",
       "       [ 5859.36717165],\n",
       "       [11271.63384986],\n",
       "       [10014.30225729],\n",
       "       [ 6043.73686629],\n",
       "       [12975.42245732],\n",
       "       [12066.96034099],\n",
       "       [28052.15863473],\n",
       "       [11361.56357043],\n",
       "       [11060.29810116],\n",
       "       [14348.98304548],\n",
       "       [12312.23589186],\n",
       "       [28147.75655535],\n",
       "       [11823.51072484],\n",
       "       [12848.87384573],\n",
       "       [15178.13163272],\n",
       "       [ 4197.13873747],\n",
       "       [28308.19263972],\n",
       "       [ 8971.99085308],\n",
       "       [28732.62186124],\n",
       "       [11179.06619869],\n",
       "       [ 6579.03176313],\n",
       "       [13059.30213716],\n",
       "       [14726.65831226],\n",
       "       [ 9783.6398503 ],\n",
       "       [ 2444.05494314],\n",
       "       [ 5724.67349993],\n",
       "       [ 2786.36526883],\n",
       "       [ 5696.67137344],\n",
       "       [-1003.82184963],\n",
       "       [14605.31776434],\n",
       "       [ 3995.13441381],\n",
       "       [10503.83704955],\n",
       "       [13075.10394921],\n",
       "       [11394.53019512],\n",
       "       [ 9261.88891647],\n",
       "       [13608.73784577],\n",
       "       [ 1042.57486857],\n",
       "       [11340.66753684],\n",
       "       [ 9273.62568527],\n",
       "       [ 8281.21400296],\n",
       "       [14977.26865395],\n",
       "       [12554.43628217],\n",
       "       [29821.10868267],\n",
       "       [17471.58043595],\n",
       "       [10459.61280091],\n",
       "       [ 9389.23502709],\n",
       "       [12782.30564709],\n",
       "       [ 5788.18196996],\n",
       "       [15693.65157911],\n",
       "       [ 7291.38867849],\n",
       "       [ 5634.70792056],\n",
       "       [31414.11538843],\n",
       "       [13661.85253666],\n",
       "       [12990.82789567],\n",
       "       [12116.96433071],\n",
       "       [12483.56884527],\n",
       "       [ 5245.19260841],\n",
       "       [ 2720.97048488],\n",
       "       [ 3967.45298094],\n",
       "       [ 5831.18485508],\n",
       "       [  336.78003257],\n",
       "       [ 8327.6083617 ],\n",
       "       [ 7788.78193696],\n",
       "       [ 5978.53780791],\n",
       "       [14780.22108067],\n",
       "       [ 4154.59712226],\n",
       "       [ 7660.7596099 ],\n",
       "       [ 4986.40913178],\n",
       "       [  808.63142297],\n",
       "       [ 6347.28680981],\n",
       "       [ 6028.99252197],\n",
       "       [ 3002.31581222],\n",
       "       [30358.06082481],\n",
       "       [10242.8271406 ],\n",
       "       [12160.459422  ],\n",
       "       [36713.30683683],\n",
       "       [ 5484.52486596],\n",
       "       [13900.01813071],\n",
       "       [ 1032.83264035],\n",
       "       [ 7075.58814557],\n",
       "       [25622.72563058],\n",
       "       [10388.5347597 ],\n",
       "       [ 5748.21820814],\n",
       "       [15638.72505346],\n",
       "       [ 8412.71678181],\n",
       "       [33607.43410022],\n",
       "       [12873.4767783 ],\n",
       "       [ 9089.752017  ],\n",
       "       [11495.39625664],\n",
       "       [29552.08877794],\n",
       "       [ 4833.05771099],\n",
       "       [ 8535.10872516],\n",
       "       [10379.54084243],\n",
       "       [ 2480.53742917],\n",
       "       [33644.40927286],\n",
       "       [26048.49780558],\n",
       "       [12539.77833076],\n",
       "       [ 7288.62030409],\n",
       "       [ 6523.97395347],\n",
       "       [33590.95177474],\n",
       "       [34304.29013204],\n",
       "       [10903.83077465],\n",
       "       [28227.37382203],\n",
       "       [33047.75080641],\n",
       "       [ 4484.39001642],\n",
       "       [33279.27378584],\n",
       "       [ 9131.498238  ],\n",
       "       [33409.39957307],\n",
       "       [26078.36522976],\n",
       "       [13348.90616834],\n",
       "       [12332.40769064],\n",
       "       [ 5643.77644808],\n",
       "       [15413.40505405],\n",
       "       [10751.99223385],\n",
       "       [ 4512.13100449],\n",
       "       [14657.52748835],\n",
       "       [16829.95674466],\n",
       "       [ 2761.72430528],\n",
       "       [ 7501.05082023],\n",
       "       [34047.62899298],\n",
       "       [-2007.51465386],\n",
       "       [ 4961.00911327],\n",
       "       [11317.6348311 ],\n",
       "       [14807.90116752],\n",
       "       [ 9435.27403931],\n",
       "       [ -174.72351449],\n",
       "       [37372.501456  ],\n",
       "       [ 3762.34340068],\n",
       "       [15752.87879474],\n",
       "       [ 4533.80783189],\n",
       "       [ 2098.27922285],\n",
       "       [10611.76084205],\n",
       "       [11035.74435668],\n",
       "       [15662.70306033],\n",
       "       [ 8452.46307921],\n",
       "       [38420.53380273],\n",
       "       [10153.96721241],\n",
       "       [11949.02953257],\n",
       "       [ 4513.62352998],\n",
       "       [12416.5499223 ],\n",
       "       [26496.89917632],\n",
       "       [ 9790.09769801],\n",
       "       [ 6000.9083136 ],\n",
       "       [10006.79989424],\n",
       "       [25365.92932362],\n",
       "       [10336.38146363],\n",
       "       [10881.45558102],\n",
       "       [ 8959.58819878],\n",
       "       [15429.29849108],\n",
       "       [ 3007.7593242 ],\n",
       "       [-1527.1369542 ],\n",
       "       [  595.0082712 ],\n",
       "       [28619.70924858],\n",
       "       [ 5735.13445102],\n",
       "       [13970.64440894],\n",
       "       [ 3305.77699221],\n",
       "       [34409.46642665],\n",
       "       [ 3043.17108273],\n",
       "       [ 9053.67241541],\n",
       "       [ 8038.69942437],\n",
       "       [13921.55865666],\n",
       "       [ 8610.49602819],\n",
       "       [-1661.86948091],\n",
       "       [ 7849.37339028],\n",
       "       [12779.93729567],\n",
       "       [11037.97419828],\n",
       "       [ 5255.92758077],\n",
       "       [27495.79302831],\n",
       "       [17224.77382277],\n",
       "       [18593.63259562],\n",
       "       [ 2746.80146262],\n",
       "       [ 5275.27563221],\n",
       "       [11085.22524556],\n",
       "       [ 6570.01359126],\n",
       "       [ 8302.25598465],\n",
       "       [ 5367.40939532],\n",
       "       [13799.54616716],\n",
       "       [ 2045.94198386],\n",
       "       [ 7402.89767646],\n",
       "       [ 3764.4410032 ],\n",
       "       [ 1760.64721451],\n",
       "       [ 9363.07450189],\n",
       "       [ 6140.38557298],\n",
       "       [ 1314.37779181],\n",
       "       [11671.78227335],\n",
       "       [ 8736.5725223 ],\n",
       "       [39286.25467818],\n",
       "       [13249.36687172],\n",
       "       [30803.50766988],\n",
       "       [24424.72359513],\n",
       "       [13298.04012908],\n",
       "       [ 7847.50609887],\n",
       "       [ 4020.34673658],\n",
       "       [ 6470.53340058],\n",
       "       [ 8103.13157642],\n",
       "       [17572.38934907],\n",
       "       [ 5463.80240816],\n",
       "       [ 1720.72220413],\n",
       "       [ 4483.63471429],\n",
       "       [11235.6798057 ],\n",
       "       [ 4871.80772605],\n",
       "       [ 9599.55423169],\n",
       "       [10504.32504824],\n",
       "       [10086.4072409 ],\n",
       "       [11529.5329541 ],\n",
       "       [35005.12140493],\n",
       "       [10147.62707077],\n",
       "       [10703.7386335 ],\n",
       "       [28556.89108092],\n",
       "       [ 1869.72444194],\n",
       "       [  875.61483071],\n",
       "       [10028.75005365],\n",
       "       [ 4457.93180971],\n",
       "       [ 6874.73842656],\n",
       "       [ 3154.99749978],\n",
       "       [ 7407.75407908],\n",
       "       [23047.8677789 ],\n",
       "       [11941.32287211],\n",
       "       [ 5679.85229684],\n",
       "       [ 3962.30629893],\n",
       "       [17379.22814439],\n",
       "       [ 7399.8475945 ],\n",
       "       [ 1220.25651548],\n",
       "       [ 1129.73035709],\n",
       "       [ 7875.37201881],\n",
       "       [ 8723.40864086],\n",
       "       [ 6913.75960144],\n",
       "       [ 9128.65976282],\n",
       "       [ 8758.06405861],\n",
       "       [11131.81608651],\n",
       "       [34937.02999535],\n",
       "       [ 5430.86984699],\n",
       "       [ 3487.3144824 ],\n",
       "       [10685.02032677],\n",
       "       [ 6036.76635438],\n",
       "       [ 8038.75071512],\n",
       "       [ 9348.7407623 ],\n",
       "       [ 9517.12218624],\n",
       "       [10281.87645397],\n",
       "       [ 6180.09405404],\n",
       "       [ 9625.27921867],\n",
       "       [27611.14409316],\n",
       "       [22788.54080536],\n",
       "       [10608.81341111],\n",
       "       [ 8996.37360704],\n",
       "       [ -558.16181714],\n",
       "       [24628.92851588],\n",
       "       [ 5865.38954851],\n",
       "       [ 2007.1668902 ],\n",
       "       [ 5697.77720309],\n",
       "       [28148.35347362],\n",
       "       [16246.80713907],\n",
       "       [38680.33998848],\n",
       "       [16153.55207819],\n",
       "       [14308.20748622],\n",
       "       [ 3608.9664882 ],\n",
       "       [25485.86708084],\n",
       "       [10486.72886328],\n",
       "       [13810.33483707],\n",
       "       [13482.47816538],\n",
       "       [ 3816.33829804],\n",
       "       [ 9835.63469515],\n",
       "       [38393.62988914],\n",
       "       [25686.53285693],\n",
       "       [ 4480.81828534],\n",
       "       [14174.70048894],\n",
       "       [31679.26284821],\n",
       "       [ 6536.16893229],\n",
       "       [28213.86609471],\n",
       "       [ 6511.88155615],\n",
       "       [11748.28032857],\n",
       "       [ 8378.82241274],\n",
       "       [12138.97948989],\n",
       "       [ 3899.8430647 ],\n",
       "       [12455.56775743],\n",
       "       [13407.92219028],\n",
       "       [ 4314.22620068],\n",
       "       [12606.33253837],\n",
       "       [16817.53373587],\n",
       "       [25600.61877905],\n",
       "       [13254.55530136],\n",
       "       [27856.96498955],\n",
       "       [26774.1696515 ],\n",
       "       [ 8299.11875315],\n",
       "       [11924.78780417],\n",
       "       [36037.02555559],\n",
       "       [11753.51147713],\n",
       "       [ 9612.83188791],\n",
       "       [11739.85825097],\n",
       "       [10857.95138337],\n",
       "       [ 8260.13988411],\n",
       "       [ 5201.97267194],\n",
       "       [ 1414.13238067],\n",
       "       [27489.15709534],\n",
       "       [11915.98981091],\n",
       "       [13498.35913048],\n",
       "       [-1151.92131812],\n",
       "       [ 7634.13406195],\n",
       "       [ 5086.2804916 ],\n",
       "       [13266.85964902],\n",
       "       [10251.31617551],\n",
       "       [ 8209.36805295],\n",
       "       [31277.78662118],\n",
       "       [ 9396.65937063],\n",
       "       [ 2914.69041458],\n",
       "       [11579.02586027],\n",
       "       [11369.15838247],\n",
       "       [ 7002.34702162],\n",
       "       [14286.69121486],\n",
       "       [ 9886.13408567],\n",
       "       [11560.46014711],\n",
       "       [12107.01166543],\n",
       "       [ 5594.18640499],\n",
       "       [ 3102.26981212],\n",
       "       [40510.36178217],\n",
       "       [13233.33826677],\n",
       "       [14972.36619052],\n",
       "       [ 9093.48440766],\n",
       "       [ 5307.31451251],\n",
       "       [10035.94877401],\n",
       "       [ 4833.05771099],\n",
       "       [ 9163.14783934],\n",
       "       [13681.31852877],\n",
       "       [ 3408.34583782],\n",
       "       [ 3668.15202357],\n",
       "       [ 9130.39240835],\n",
       "       [ 4614.12170568],\n",
       "       [ 5867.27324315],\n",
       "       [ 9141.0565233 ],\n",
       "       [ 5619.25739267],\n",
       "       [26202.46161277],\n",
       "       [ 4336.10619194],\n",
       "       [ 5337.72298523],\n",
       "       [ 5694.49405967],\n",
       "       [ 9241.05753909],\n",
       "       [ 4798.70417681],\n",
       "       [14813.45552543],\n",
       "       [16596.10164952],\n",
       "       [26512.17612842],\n",
       "       [35981.64750157],\n",
       "       [ 1959.90820619],\n",
       "       [36628.00590197],\n",
       "       [ 3298.04607716],\n",
       "       [15743.67103696],\n",
       "       [ 7010.02746994],\n",
       "       [ 6347.73481996],\n",
       "       [30232.95082653],\n",
       "       [13712.03943065],\n",
       "       [11112.45139724],\n",
       "       [ 8252.63752105],\n",
       "       [ 2513.08863012],\n",
       "       [16022.56454881],\n",
       "       [30459.9171821 ],\n",
       "       [ -427.99018373],\n",
       "       [ 8906.44312983],\n",
       "       [ 9669.66904945],\n",
       "       [ 8958.77368717],\n",
       "       [14004.86476893],\n",
       "       [ 5395.14077291],\n",
       "       [ 4647.69485912],\n",
       "       [12769.68023106],\n",
       "       [26256.35833457],\n",
       "       [17109.23881501],\n",
       "       [29301.61601095],\n",
       "       [16148.84338277],\n",
       "       [ 8556.74931687],\n",
       "       [10884.76304641],\n",
       "       [15069.21096634],\n",
       "       [11742.80568191],\n",
       "       [11463.29020438],\n",
       "       [24798.33579241],\n",
       "       [32935.05127763],\n",
       "       [ 9447.01284923],\n",
       "       [11263.82198647],\n",
       "       [27058.19135351],\n",
       "       [ 3727.17273344],\n",
       "       [ 6235.37996105],\n",
       "       [ 5634.34788611],\n",
       "       [11375.81271239],\n",
       "       [38459.90260383],\n",
       "       [33433.3327724 ],\n",
       "       [27019.20779653],\n",
       "       [14322.90346862],\n",
       "       [35753.77813666],\n",
       "       [39828.81704797],\n",
       "       [ 2699.20978031],\n",
       "       [26544.92005876],\n",
       "       [ 5801.67791461],\n",
       "       [36691.80475494],\n",
       "       [ 5617.15382896],\n",
       "       [11295.79287081],\n",
       "       [ 2493.45312458],\n",
       "       [35065.32086295],\n",
       "       [15536.91747116],\n",
       "       [ 7518.89601523],\n",
       "       [12487.81679279],\n",
       "       [ 5146.29149725],\n",
       "       [10989.0257861 ],\n",
       "       [29309.49211747],\n",
       "       [ 7929.03120369],\n",
       "       [25165.38545566],\n",
       "       [11350.99073475],\n",
       "       [ -475.42203046],\n",
       "       [33144.5020946 ],\n",
       "       [11932.14914167],\n",
       "       [ 6894.95886927],\n",
       "       [10950.8802387 ],\n",
       "       [28374.49301829],\n",
       "       [10807.39484445],\n",
       "       [-1064.45853761],\n",
       "       [ 4115.66609311],\n",
       "       [ 8268.49123537],\n",
       "       [ 3784.09414906],\n",
       "       [ 2774.7626293 ],\n",
       "       [11855.25774512],\n",
       "       [ 8177.53860723],\n",
       "       [33326.87290643],\n",
       "       [13311.213621  ],\n",
       "       [ 3368.65061653],\n",
       "       [ 5990.26307605],\n",
       "       [31353.20430226],\n",
       "       [10868.45997592],\n",
       "       [ 1608.81535536],\n",
       "       [36756.69056015],\n",
       "       [ 9579.68800196],\n",
       "       [37118.83359406],\n",
       "       [ 6737.15570938],\n",
       "       [14266.57428335],\n",
       "       [ 7277.05276671],\n",
       "       [28664.76681887],\n",
       "       [ 4180.8442388 ],\n",
       "       [17098.94258587],\n",
       "       [11755.05067281],\n",
       "       [ 9021.81454919],\n",
       "       [36337.66492945],\n",
       "       [13409.58694339],\n",
       "       [18326.21509106],\n",
       "       [15804.69637834],\n",
       "       [38144.49443262],\n",
       "       [12048.36352931],\n",
       "       [31174.86242905],\n",
       "       [ 9060.68719286],\n",
       "       [ 4092.43208616],\n",
       "       [ 9289.88436131],\n",
       "       [12449.75219373],\n",
       "       [12073.6146709 ],\n",
       "       [ 9113.53240811],\n",
       "       [15192.82761512],\n",
       "       [  160.75522003],\n",
       "       [ 6921.21946022],\n",
       "       [11490.29535344],\n",
       "       [ 4314.73552513],\n",
       "       [13438.47878328],\n",
       "       [32539.6930199 ],\n",
       "       [10717.0621359 ],\n",
       "       [24929.94531866],\n",
       "       [26624.25073151],\n",
       "       [14294.43414719],\n",
       "       [14288.99239433],\n",
       "       [14372.04877609],\n",
       "       [ 6770.64009929],\n",
       "       [31205.7216261 ],\n",
       "       [15083.41098975],\n",
       "       [30158.82528863],\n",
       "       [ 6200.01942589],\n",
       "       [ 1774.43309283],\n",
       "       [29747.46460692],\n",
       "       [ 7953.685427  ],\n",
       "       [32171.69491421],\n",
       "       [33427.66435771],\n",
       "       [32748.21650557],\n",
       "       [ 3092.17933212],\n",
       "       [ 9141.18500956],\n",
       "       [10111.37020792],\n",
       "       [ 9824.90047942],\n",
       "       [31549.84065928],\n",
       "       [29998.83207722],\n",
       "       [ 7646.49792864],\n",
       "       [30873.89537255],\n",
       "       [11157.72549685],\n",
       "       [ 8186.36855919],\n",
       "       [ 4408.84133334],\n",
       "       [30038.08221719],\n",
       "       [11471.82312792],\n",
       "       [15727.56734133],\n",
       "       [16383.80261583],\n",
       "       [ 7216.76849643],\n",
       "       [ 3699.44217986],\n",
       "       [ 5559.23894873],\n",
       "       [31566.87581596],\n",
       "       [ 5889.9466349 ],\n",
       "       [ 6328.93270344],\n",
       "       [11287.53028309],\n",
       "       [14483.10097743],\n",
       "       [ 7206.65053103],\n",
       "       [10462.63011798],\n",
       "       [15844.7261424 ],\n",
       "       [11202.6972998 ],\n",
       "       [ 3837.37438591],\n",
       "       [ 5123.40984062],\n",
       "       [28578.1646108 ],\n",
       "       [35209.07741918],\n",
       "       [10410.29798001],\n",
       "       [ 9695.28848994],\n",
       "       [ 7600.61853736],\n",
       "       [10526.82486419],\n",
       "       [ 7367.31527095],\n",
       "       [17310.0718288 ],\n",
       "       [29770.30940228],\n",
       "       [14635.81555879],\n",
       "       [12267.0564496 ],\n",
       "       [ 1345.6350543 ],\n",
       "       [15089.69033911],\n",
       "       [ 2118.44399426],\n",
       "       [ 9053.17897216],\n",
       "       [13592.22826951],\n",
       "       [14556.23962882],\n",
       "       [ 7350.61706384],\n",
       "       [13969.7838365 ],\n",
       "       [ 6316.87165544],\n",
       "       [11433.95173869],\n",
       "       [ 9861.8521541 ],\n",
       "       [ 4868.79429288],\n",
       "       [ 9453.53569669],\n",
       "       [ 2213.96975302],\n",
       "       [14310.15331917],\n",
       "       [ 3269.78209179],\n",
       "       [ 2457.26343368],\n",
       "       [ 7220.17468154],\n",
       "       [15676.58535511],\n",
       "       [ 8709.45135892],\n",
       "       [11537.76347204],\n",
       "       [31453.50069629],\n",
       "       [ 5892.44470966],\n",
       "       [ 1606.04893851],\n",
       "       [16092.29109007],\n",
       "       [ 7179.89432464],\n",
       "       [12098.79668299],\n",
       "       [11546.25196496],\n",
       "       [11024.43385918],\n",
       "       [ 8782.46341424],\n",
       "       [12067.34662375],\n",
       "       [16686.95993848],\n",
       "       [ 7561.89890035],\n",
       "       [11550.23408612],\n",
       "       [36562.98492885],\n",
       "       [ 5247.03713852],\n",
       "       [ 7488.80882552],\n",
       "       [40162.43654089],\n",
       "       [ 9980.72073046],\n",
       "       [ 4842.04570325],\n",
       "       [12197.3512341 ],\n",
       "       [ 3883.85730975],\n",
       "       [39129.25884243],\n",
       "       [33354.87792557],\n",
       "       [14737.47640514],\n",
       "       [-1020.31179186],\n",
       "       [13598.22925322],\n",
       "       [30824.51337969],\n",
       "       [29199.50654508],\n",
       "       [11164.40039591],\n",
       "       [ 5418.27543458],\n",
       "       [ 2088.52527934],\n",
       "       [14678.31343263],\n",
       "       [ 3383.02748811],\n",
       "       [ 7092.1833581 ],\n",
       "       [ 2041.64891063],\n",
       "       [29497.33148371],\n",
       "       [32647.67654606],\n",
       "       [34788.94202753],\n",
       "       [12711.11890093],\n",
       "       [19045.09044796],\n",
       "       [ 7757.19595318],\n",
       "       [39023.90990712],\n",
       "       [ 9225.09100509],\n",
       "       [ 3518.36647621],\n",
       "       [12773.18166292],\n",
       "       [ 8205.09754257],\n",
       "       [36856.66567118],\n",
       "       [11326.07162019],\n",
       "       [ 7960.73237778],\n",
       "       [ 4249.3570333 ],\n",
       "       [ 2898.02978921],\n",
       "       [ 6113.87972482],\n",
       "       [12992.03795697],\n",
       "       [29178.74316365],\n",
       "       [11407.06997487],\n",
       "       [ 6155.49528738],\n",
       "       [27481.9362252 ],\n",
       "       [30491.18323106],\n",
       "       [11411.20700908],\n",
       "       [ 2582.23116932],\n",
       "       [12710.90360869],\n",
       "       [34520.23286023],\n",
       "       [33995.50704623],\n",
       "       [29536.27580879],\n",
       "       [ 2644.55296491],\n",
       "       [12245.7057242 ],\n",
       "       [ 7713.04262932],\n",
       "       [ 2193.9413866 ],\n",
       "       [ 3721.18700322],\n",
       "       [ 8522.64062682],\n",
       "       [ 9667.49831378],\n",
       "       [ 9419.15959966],\n",
       "       [ 6859.81640791],\n",
       "       [ 3388.60733771],\n",
       "       [ 9754.63833418],\n",
       "       [14595.61949213],\n",
       "       [ 9533.86324333],\n",
       "       [ 5516.87834761],\n",
       "       [16087.26641111],\n",
       "       [ 8140.34022361],\n",
       "       [-1925.08853342],\n",
       "       [12003.19114562],\n",
       "       [13325.59049258],\n",
       "       [33278.14832215],\n",
       "       [27052.11017809],\n",
       "       [11616.66711686],\n",
       "       [ 8352.99980838],\n",
       "       [13631.64395543],\n",
       "       [29166.67739155],\n",
       "       [17533.71828863],\n",
       "       [ 6263.11615765],\n",
       "       [12084.95441291],\n",
       "       [ 9311.23580717],\n",
       "       [29422.74753735],\n",
       "       [ 8334.82923184],\n",
       "       [31869.23826103],\n",
       "       [13462.86153724],\n",
       "       [ 4804.96512923],\n",
       "       [17522.07390146],\n",
       "       [28317.90490297],\n",
       "       [ -194.59342968],\n",
       "       [  331.41840404],\n",
       "       [ 3263.57535894],\n",
       "       [ 6299.94665545],\n",
       "       [27175.36269388],\n",
       "       [ 4339.76180018],\n",
       "       [10203.29446907],\n",
       "       [ 7721.03550679],\n",
       "       [12060.83924441],\n",
       "       [26650.28934856],\n",
       "       [15723.30058378],\n",
       "       [35379.92237391],\n",
       "       [31854.7942175 ],\n",
       "       [ 6875.61570421],\n",
       "       [34026.63582246],\n",
       "       [14314.80614484],\n",
       "       [ 7246.99595506],\n",
       "       [ 7518.97989239],\n",
       "       [10246.57947268],\n",
       "       [ 9296.37551589],\n",
       "       [12387.47999714],\n",
       "       [ 9139.22821795],\n",
       "       [12185.24629748],\n",
       "       [ 7044.17098013],\n",
       "       [ 3819.29061535],\n",
       "       [30588.65313102],\n",
       "       [ 3325.59644066],\n",
       "       [ 8583.84281638],\n",
       "       [ 6823.77115184],\n",
       "       [ 3385.35292217],\n",
       "       [12687.32304169],\n",
       "       [  643.29476534],\n",
       "       [  555.58086997],\n",
       "       [12302.54443237],\n",
       "       [16411.99819216],\n",
       "       [ 8345.62183304],\n",
       "       [10026.41869457],\n",
       "       [35681.52730849],\n",
       "       [35438.7174606 ],\n",
       "       [13315.48895038],\n",
       "       [ 6158.30755041],\n",
       "       [ 1992.25658684],\n",
       "       [12474.86234593],\n",
       "       [33056.6821723 ],\n",
       "       [13356.50098038],\n",
       "       [35453.02299432],\n",
       "       [14015.61861869],\n",
       "       [10011.0958963 ],\n",
       "       [12553.24878372],\n",
       "       [ 4832.8766969 ],\n",
       "       [ 5189.33241335],\n",
       "       [ 6975.05786391],\n",
       "       [16219.65859383],\n",
       "       [12136.47597056],\n",
       "       [ 8955.88539835],\n",
       "       [34217.35169486],\n",
       "       [ 3016.29734875],\n",
       "       [24683.13870549],\n",
       "       [38421.16354743],\n",
       "       [12600.0002481 ],\n",
       "       [10644.80327789],\n",
       "       [16749.16571975],\n",
       "       [34831.9650687 ],\n",
       "       [34877.5449832 ],\n",
       "       [ 8247.2283546 ],\n",
       "       [ 9941.60165986],\n",
       "       [12266.29301409],\n",
       "       [34203.01181562],\n",
       "       [14889.57680482],\n",
       "       [ 4023.79366686],\n",
       "       [ 6592.19564458],\n",
       "       [ 6762.4019646 ],\n",
       "       [16260.15496343],\n",
       "       [35577.74547275],\n",
       "       [ 6526.02006681],\n",
       "       [12163.89860445],\n",
       "       [36173.52090744],\n",
       "       [ 9279.79952432],\n",
       "       [ 4260.14963451],\n",
       "       [ 9763.52467789],\n",
       "       [ 4639.60484472],\n",
       "       [ 6922.95210575],\n",
       "       [12969.7550139 ],\n",
       "       [ 4256.73969657],\n",
       "       [12430.70192733],\n",
       "       [15777.35011379],\n",
       "       [30773.46708298],\n",
       "       [11336.40956576],\n",
       "       [33606.53946427],\n",
       "       [14480.29750087],\n",
       "       [ 8522.19179267],\n",
       "       [32455.51011045],\n",
       "       [30338.68728169],\n",
       "       [12031.10154357],\n",
       "       [31277.70274402],\n",
       "       [10589.56718453],\n",
       "       [ 3267.02739023],\n",
       "       [10486.27634367],\n",
       "       [11817.9016669 ],\n",
       "       [11018.86648151],\n",
       "       [30602.13536665],\n",
       "       [10627.82575006],\n",
       "       [ 5543.75208159],\n",
       "       [ 9979.28094743],\n",
       "       [ 2024.40731556],\n",
       "       [36680.24014639],\n",
       "       [ 7007.22815929],\n",
       "       [ 3594.5490699 ],\n",
       "       [ 2707.91083509],\n",
       "       [ 7220.70026195],\n",
       "       [29148.27337663],\n",
       "       [27048.06160544],\n",
       "       [13779.98868113],\n",
       "       [ 1249.95253605],\n",
       "       [29607.93237133],\n",
       "       [-1316.43322594],\n",
       "       [ 3836.21602843],\n",
       "       [26051.33452165],\n",
       "       [11557.145869  ],\n",
       "       [  198.44776737],\n",
       "       [ 6129.24544046],\n",
       "       [ 1080.53148314],\n",
       "       [14633.39591662],\n",
       "       [14243.30696952],\n",
       "       [10577.01100155],\n",
       "       [ 3684.11562875],\n",
       "       [29818.68446151],\n",
       "       [32645.16083099],\n",
       "       [ 6814.62074089],\n",
       "       [17990.69760509],\n",
       "       [ 9501.45430502],\n",
       "       [13096.05168663],\n",
       "       [10131.77648372],\n",
       "       [10314.27461209],\n",
       "       [ 3059.58352207],\n",
       "       [10947.36144854],\n",
       "       [ 9175.55641866],\n",
       "       [ 5794.96602322],\n",
       "       [26970.5619884 ],\n",
       "       [10579.87748415],\n",
       "       [ 5935.06772785],\n",
       "       [32505.66662638],\n",
       "       [13113.41966313],\n",
       "       [ 2006.18837709],\n",
       "       [15066.19364927],\n",
       "       [10464.17148585],\n",
       "       [ 7117.77806354],\n",
       "       [ 2075.48695532],\n",
       "       [ 5444.3979288 ],\n",
       "       [26309.98534611],\n",
       "       [  498.36583523],\n",
       "       [  -53.00017083],\n",
       "       [31878.55790341],\n",
       "       [  843.33151719],\n",
       "       [13535.24091903],\n",
       "       [ 6425.419617  ],\n",
       "       [ 9657.95890588],\n",
       "       [36864.03879134],\n",
       "       [  937.11209112],\n",
       "       [40474.11036389],\n",
       "       [11641.54038524],\n",
       "       [14929.85130408],\n",
       "       [33731.88094337],\n",
       "       [10630.82488483],\n",
       "       [ 4602.14460222],\n",
       "       [ 3285.00775314],\n",
       "       [31519.53149568],\n",
       "       [14184.46131254],\n",
       "       [ 3881.66997242],\n",
       "       [ 2535.01446757],\n",
       "       [13891.6193726 ],\n",
       "       [26794.30663013],\n",
       "       [31193.2623816 ],\n",
       "       [ 7345.51499093],\n",
       "       [ 6130.80303308],\n",
       "       [13096.25777931],\n",
       "       [12925.94625636],\n",
       "       [12765.64430125],\n",
       "       [11624.73866694],\n",
       "       [37091.3776533 ],\n",
       "       [10040.56284824],\n",
       "       [12742.06373425],\n",
       "       [ 5025.10451419],\n",
       "       [10661.09402373],\n",
       "       [ 5348.7667013 ],\n",
       "       [ 7593.42274582],\n",
       "       [28002.53724231],\n",
       "       [ 5122.59866875],\n",
       "       [13176.62524711],\n",
       "       [14542.75739319],\n",
       "       [  983.29805392],\n",
       "       [23236.94762067],\n",
       "       [ 3614.95052669],\n",
       "       [11139.64465512],\n",
       "       [ 6085.25078246],\n",
       "       [ 4411.74291809],\n",
       "       [ 2376.39480234]])"
      ]
     },
     "execution_count": 54,
     "metadata": {},
     "output_type": "execute_result"
    }
   ],
   "source": [
    "y_pred_train = lr.predict(x_train)\n",
    "y_pred_train"
   ]
  },
  {
   "cell_type": "code",
   "execution_count": 55,
   "metadata": {},
   "outputs": [
    {
     "data": {
      "image/png": "[encoded data removed]",
      "text/plain": [
       "<Figure size 432x288 with 1 Axes>"
      ]
     },
     "metadata": {},
     "output_type": "display_data"
    }
   ],
   "source": [
    "import matplotlib.pyplot as plt\n",
    "plt.scatter(y_train,y_pred_train)\n",
    "plt.xlabel(\"Actual charges\")\n",
    "plt.ylabel(\"Predicted charges\")\n",
    "sns.regplot(x=y_train,y=y_pred_train)\n",
    "plt.show()"
   ]
  },
  {
   "cell_type": "code",
   "execution_count": 56,
   "metadata": {},
   "outputs": [
    {
     "data": {
      "text/plain": [
       "0.7306840408360218"
      ]
     },
     "execution_count": 56,
     "metadata": {},
     "output_type": "execute_result"
    }
   ],
   "source": [
    "from sklearn.metrics import r2_score\n",
    "r2_score(y_train,y_pred_train)"
   ]
  },
  {
   "cell_type": "code",
   "execution_count": 57,
   "metadata": {},
   "outputs": [
    {
     "data": {
      "text/plain": [
       "array([[11051.54909755],\n",
       "       [ 9821.28110689],\n",
       "       [37867.57220923],\n",
       "       [16125.70579228],\n",
       "       [ 6920.27132517],\n",
       "       [ 3879.38549816],\n",
       "       [ 1448.91928088],\n",
       "       [14390.17797974],\n",
       "       [ 9022.95151353],\n",
       "       [ 7458.83371884],\n",
       "       [ 4584.60125463],\n",
       "       [10309.9886336 ],\n",
       "       [ 8693.03891958],\n",
       "       [ 4085.25393494],\n",
       "       [27551.60737718],\n",
       "       [11151.0640722 ],\n",
       "       [11243.0536825 ],\n",
       "       [ 5962.9521121 ],\n",
       "       [ 8181.9015666 ],\n",
       "       [26750.7993431 ],\n",
       "       [33448.59842228],\n",
       "       [14350.03320383],\n",
       "       [11672.89478465],\n",
       "       [32235.7832204 ],\n",
       "       [ 4326.07702625],\n",
       "       [ 9096.53607025],\n",
       "       [ 1045.25196369],\n",
       "       [10177.76672094],\n",
       "       [ 4042.60346751],\n",
       "       [10384.28681219],\n",
       "       [ 9035.98983755],\n",
       "       [40123.71002379],\n",
       "       [15507.20819083],\n",
       "       [13678.264976  ],\n",
       "       [24481.97362849],\n",
       "       [ 5059.21988589],\n",
       "       [12889.80609711],\n",
       "       [30333.92625689],\n",
       "       [33301.25091403],\n",
       "       [ 3431.35787088],\n",
       "       [ 3941.81614597],\n",
       "       [ 4203.90901434],\n",
       "       [30219.19050725],\n",
       "       [39245.56885373],\n",
       "       [27762.83744249],\n",
       "       [ 4994.74188765],\n",
       "       [11042.48621304],\n",
       "       [ 7760.15047885],\n",
       "       [ 3569.09734756],\n",
       "       [10613.61535955],\n",
       "       [ 5544.95921408],\n",
       "       [ 3397.80923785],\n",
       "       [32701.67144343],\n",
       "       [38285.57836702],\n",
       "       [16290.50463759],\n",
       "       [ 6965.99677468],\n",
       "       [ 5895.27536963],\n",
       "       [ 9364.94083823],\n",
       "       [ 9395.1780384 ],\n",
       "       [11722.13868077],\n",
       "       [ 1611.87873326],\n",
       "       [38750.4981005 ],\n",
       "       [15296.11225478],\n",
       "       [11708.42958487],\n",
       "       [14076.39653066],\n",
       "       [13904.28564489],\n",
       "       [25798.46519738],\n",
       "       [31953.12169371],\n",
       "       [ 1168.25915489],\n",
       "       [10184.5995492 ],\n",
       "       [12273.00414884],\n",
       "       [11867.15734569],\n",
       "       [24808.10644113],\n",
       "       [15908.53043993],\n",
       "       [11198.67421883],\n",
       "       [12631.50869281],\n",
       "       [ 6433.71238434],\n",
       "       [ 9915.55343233],\n",
       "       [29953.19794316],\n",
       "       [38768.07351788],\n",
       "       [12011.54405755],\n",
       "       [37253.64166612],\n",
       "       [ 4056.21325429],\n",
       "       [ 9255.50826428],\n",
       "       [34537.73817683],\n",
       "       [28976.62623495],\n",
       "       [ 8444.02316285],\n",
       "       [ 4738.69241453],\n",
       "       [11959.22562859],\n",
       "       [30006.0695852 ],\n",
       "       [10041.58386562],\n",
       "       [11243.48874027],\n",
       "       [ 8183.6075869 ],\n",
       "       [ 9280.51490529],\n",
       "       [ 8255.40224617],\n",
       "       [ 7239.23538241],\n",
       "       [35731.00350944],\n",
       "       [32878.29978853],\n",
       "       [ 7591.7717691 ],\n",
       "       [14921.91368481],\n",
       "       [ 4184.53547122],\n",
       "       [ 8690.01064385],\n",
       "       [ 6619.75457992],\n",
       "       [31535.59819898],\n",
       "       [32775.00677547],\n",
       "       [ 1887.67848916],\n",
       "       [ 8933.68024017],\n",
       "       [ 6520.27249906],\n",
       "       [14475.77105663],\n",
       "       [36880.82790297],\n",
       "       [10252.51955517],\n",
       "       [10775.16399139],\n",
       "       [10192.95246113],\n",
       "       [26581.47470665],\n",
       "       [39936.28907748],\n",
       "       [ 8453.03671416],\n",
       "       [  143.08142864],\n",
       "       [ 8874.82383918],\n",
       "       [15117.85425873],\n",
       "       [ 9557.08594807],\n",
       "       [35275.59070316],\n",
       "       [ 7270.62037452],\n",
       "       [16826.50981439],\n",
       "       [ 9572.8088055 ],\n",
       "       [ 8159.95902395],\n",
       "       [ 2952.65859719],\n",
       "       [32706.51413703],\n",
       "       [31283.9896012 ],\n",
       "       [39216.89699401],\n",
       "       [ 5362.49911669],\n",
       "       [ 9675.40479836],\n",
       "       [ 3778.85297694],\n",
       "       [ 7946.39718647],\n",
       "       [ 8585.02883773],\n",
       "       [31341.17050506],\n",
       "       [29551.7714624 ],\n",
       "       [29853.91861524],\n",
       "       [ 9151.88904567],\n",
       "       [32625.66390263],\n",
       "       [ 3229.01239018],\n",
       "       [ 3529.93652932],\n",
       "       [11054.17156002],\n",
       "       [13442.38216447],\n",
       "       [12761.80223436],\n",
       "       [ 5363.70249634],\n",
       "       [15875.56674406],\n",
       "       [15252.72853146],\n",
       "       [ 2382.17016287],\n",
       "       [ -120.56014234],\n",
       "       [10834.07802124],\n",
       "       [ 7372.12214193],\n",
       "       [31759.88622234],\n",
       "       [12314.86913452],\n",
       "       [ 2548.30390645],\n",
       "       [ 6284.28252705],\n",
       "       [ 8170.0107525 ],\n",
       "       [ 4285.24015268],\n",
       "       [ 2331.14818812],\n",
       "       [11414.21888159],\n",
       "       [12551.18010753],\n",
       "       [ 7208.95663304],\n",
       "       [16615.95420641],\n",
       "       [11792.56220606],\n",
       "       [13920.69808423],\n",
       "       [ 3134.30793579],\n",
       "       [ 7262.13973297],\n",
       "       [22758.38813544],\n",
       "       [ 7596.99822972],\n",
       "       [ 5401.65993492],\n",
       "       [ 5339.75438707],\n",
       "       [ 6641.09944767],\n",
       "       [ 5142.27041   ],\n",
       "       [ 9983.03913716],\n",
       "       [ 5526.89132472],\n",
       "       [ 5628.18992827],\n",
       "       [ 6975.95618531],\n",
       "       [ 3673.17907317],\n",
       "       [ 5521.32735633],\n",
       "       [37913.25218948],\n",
       "       [ 1337.01243212],\n",
       "       [12636.06438156],\n",
       "       [ 8935.78276524],\n",
       "       [13661.56267036],\n",
       "       [ 5572.770716  ],\n",
       "       [ 5181.38538205],\n",
       "       [36214.23931831],\n",
       "       [ 4207.49996636],\n",
       "       [ 1896.75580314],\n",
       "       [15163.16594007],\n",
       "       [12674.02182014],\n",
       "       [34823.20434979],\n",
       "       [ 5093.20670396],\n",
       "       [ 5580.90282376],\n",
       "       [31320.99694717],\n",
       "       [ 5982.46375195],\n",
       "       [ 1940.59597738],\n",
       "       [ 8389.18364163],\n",
       "       [10016.84576515],\n",
       "       [ 8238.45168712],\n",
       "       [ 5687.97489766],\n",
       "       [13133.993244  ],\n",
       "       [38538.79843345],\n",
       "       [13749.62605459],\n",
       "       [28607.07797491],\n",
       "       [ 6685.39503417],\n",
       "       [35610.2777963 ],\n",
       "       [ 3716.13611211],\n",
       "       [12131.97274228],\n",
       "       [ 9356.80352592],\n",
       "       [ 6339.94803517],\n",
       "       [11268.82158683],\n",
       "       [14519.98276598],\n",
       "       [ 5175.63113265],\n",
       "       [ 4233.99203814],\n",
       "       [ 7768.5658748 ],\n",
       "       [ 1150.93881984],\n",
       "       [ 7861.51707835],\n",
       "       [ 4401.34365822],\n",
       "       [13351.6815701 ],\n",
       "       [ 4312.6173173 ],\n",
       "       [10007.10646576],\n",
       "       [ 7274.06437597],\n",
       "       [ 9167.81641515],\n",
       "       [ 2307.24223958],\n",
       "       [13115.48905979],\n",
       "       [16739.15126554],\n",
       "       [15287.81532153],\n",
       "       [10516.20091624],\n",
       "       [ 5706.41694356],\n",
       "       [ 2453.74757235],\n",
       "       [ 2105.41152789],\n",
       "       [13376.27751148],\n",
       "       [14339.33209654],\n",
       "       [ 5021.89418573],\n",
       "       [ 4090.605953  ],\n",
       "       [ 9366.33184625],\n",
       "       [ 9969.15202337],\n",
       "       [27902.13744062],\n",
       "       [ 7572.78791802],\n",
       "       [10543.34735666],\n",
       "       [ 6174.31283586],\n",
       "       [29537.11622517],\n",
       "       [11027.94086667],\n",
       "       [ 7457.00641596],\n",
       "       [10225.18823673],\n",
       "       [12176.62074648],\n",
       "       [ 2939.88516441],\n",
       "       [10785.5019008 ],\n",
       "       [ 1443.73866643],\n",
       "       [ 6998.45741682],\n",
       "       [28534.01786505],\n",
       "       [38460.70771961],\n",
       "       [ 6225.11287288],\n",
       "       [ 8374.92523275],\n",
       "       [ 2386.63715545],\n",
       "       [  305.52277009],\n",
       "       [10407.09161902],\n",
       "       [ 4362.55365462],\n",
       "       [ 4960.62107139],\n",
       "       [ 2662.94916464],\n",
       "       [ 7249.10943879],\n",
       "       [33132.60876475],\n",
       "       [37964.64601751],\n",
       "       [14795.4925882 ],\n",
       "       [ 8191.23299164],\n",
       "       [16000.85775643],\n",
       "       [33002.87197448],\n",
       "       [ 9520.82908522],\n",
       "       [33323.6218328 ],\n",
       "       [ 3516.92369698],\n",
       "       [30497.30098573],\n",
       "       [ 8044.20793611],\n",
       "       [14191.55955407],\n",
       "       [ 4083.10066112],\n",
       "       [32268.03153529],\n",
       "       [ 8315.02063095],\n",
       "       [11483.73451116],\n",
       "       [ 9510.21374527],\n",
       "       [ 4115.91551624],\n",
       "       [12660.02379304],\n",
       "       [11717.00935707],\n",
       "       [ 8354.17363399],\n",
       "       [13269.77614371],\n",
       "       [ 2699.20978031],\n",
       "       [10542.22785417],\n",
       "       [ 5391.53803822],\n",
       "       [11313.67089224],\n",
       "       [31398.88972707],\n",
       "       [10029.81495966],\n",
       "       [ 1118.21159472],\n",
       "       [  462.52270438],\n",
       "       [39674.38015203],\n",
       "       [ 9676.2207617 ],\n",
       "       [ 7081.42950834],\n",
       "       [13999.68415448],\n",
       "       [13421.82776838],\n",
       "       [26976.22819473],\n",
       "       [ 7100.7475948 ],\n",
       "       [ 6788.44279001],\n",
       "       [12033.45246932],\n",
       "       [ 2786.36526883],\n",
       "       [ 3902.46962572],\n",
       "       [24859.29396183],\n",
       "       [26090.84463032],\n",
       "       [13371.81813565],\n",
       "       [ 3164.31052787],\n",
       "       [ 5117.58945791],\n",
       "       [ 9325.3139586 ],\n",
       "       [12404.934023  ],\n",
       "       [23317.59720695],\n",
       "       [30625.80462982],\n",
       "       [10046.65063794],\n",
       "       [23804.49406862],\n",
       "       [ 2804.50033014],\n",
       "       [11550.33636023],\n",
       "       [ 7549.77464787],\n",
       "       [ 8233.25736365],\n",
       "       [  312.94242569],\n",
       "       [ 7720.18671702],\n",
       "       [35401.11202663],\n",
       "       [ 6152.78016128],\n",
       "       [ 6237.66443531],\n",
       "       [  178.89028134],\n",
       "       [10901.70768044],\n",
       "       [ 6750.59209883],\n",
       "       [ 9992.98880624],\n",
       "       [38764.63808826],\n",
       "       [27466.58793525],\n",
       "       [11489.14198588],\n",
       "       [35484.16547957],\n",
       "       [15039.21254017],\n",
       "       [ 6810.42408411],\n",
       "       [11015.353549  ],\n",
       "       [ 6839.24282704],\n",
       "       [36512.17018034],\n",
       "       [ 6045.00741789],\n",
       "       [11075.16473053],\n",
       "       [  741.96608741],\n",
       "       [24186.22593789],\n",
       "       [ 1881.15932715],\n",
       "       [34245.135946  ],\n",
       "       [11379.34404185],\n",
       "       [ 1787.47141685],\n",
       "       [32018.68078654],\n",
       "       [ 6644.72832713],\n",
       "       [ 5200.52497017],\n",
       "       [37952.77965645],\n",
       "       [ 2171.21921984],\n",
       "       [ 9595.04338665],\n",
       "       [ 2650.53107838],\n",
       "       [12806.89011534],\n",
       "       [ 1008.0849294 ],\n",
       "       [11113.81326429],\n",
       "       [ 7092.09772183],\n",
       "       [36343.11043514],\n",
       "       [ 7160.77113975],\n",
       "       [30438.75625726],\n",
       "       [29472.1875026 ],\n",
       "       [ 7100.76722883],\n",
       "       [10790.23315907],\n",
       "       [ 1879.90465675],\n",
       "       [ 2200.37960027],\n",
       "       [ 3793.92758918],\n",
       "       [12706.65566117],\n",
       "       [37039.77367021],\n",
       "       [ 9716.69560709],\n",
       "       [  345.17579449],\n",
       "       [11387.82123255],\n",
       "       [ 5036.80429065],\n",
       "       [ 9779.98465515],\n",
       "       [ 5576.16518582],\n",
       "       [ 7260.90814745],\n",
       "       [ 4311.38104385],\n",
       "       [28280.88564325],\n",
       "       [ 4363.51594298],\n",
       "       [ -921.56882455],\n",
       "       [33139.88333244],\n",
       "       [12910.28546987],\n",
       "       [35733.85862246],\n",
       "       [ 9841.66334273],\n",
       "       [ 7663.70159627],\n",
       "       [  -94.4834943 ],\n",
       "       [ 2560.96139226],\n",
       "       [11527.50523772],\n",
       "       [ 5669.76181684],\n",
       "       [ 3293.09776754],\n",
       "       [12120.72252044],\n",
       "       [ 7743.17735694],\n",
       "       [ 6920.9128887 ],\n",
       "       [ 5459.93977214],\n",
       "       [ 3049.37781558],\n",
       "       [31786.79912085],\n",
       "       [ 3518.32063003],\n",
       "       [ 8595.19234733],\n",
       "       [ 4796.86509127],\n",
       "       [13024.5060374 ],\n",
       "       [14691.59701387],\n",
       "       [ 7163.95913996],\n",
       "       [26454.5855911 ],\n",
       "       [14277.02407734],\n",
       "       [17354.84539043],\n",
       "       [11476.70520069]])"
      ]
     },
     "execution_count": 57,
     "metadata": {},
     "output_type": "execute_result"
    }
   ],
   "source": [
    "y_pred_test=lr.predict(x_test)\n",
    "y_pred_test"
   ]
  },
  {
   "cell_type": "code",
   "execution_count": 58,
   "metadata": {},
   "outputs": [
    {
     "data": {
      "image/png": "[encoded data removed]",
      "text/plain": [
       "<Figure size 432x288 with 1 Axes>"
      ]
     },
     "metadata": {},
     "output_type": "display_data"
    }
   ],
   "source": [
    "import matplotlib.pyplot as plt\n",
    "plt.scatter(y_test,y_pred_test)\n",
    "plt.xlabel(\"Actual stroke\")\n",
    "plt.ylabel(\"predicted stroke\")\n",
    "plt.show()\n"
   ]
  },
  {
   "cell_type": "code",
   "execution_count": 59,
   "metadata": {},
   "outputs": [
    {
     "data": {
      "text/plain": [
       "0.7911113876316934"
      ]
     },
     "execution_count": 59,
     "metadata": {},
     "output_type": "execute_result"
    }
   ],
   "source": [
    "r2_score(y_test,y_pred_test)"
   ]
  },
  {
   "cell_type": "code",
   "execution_count": null,
   "metadata": {},
   "outputs": [],
   "source": []
  }
 ],
 "metadata": {
  "kernelspec": {
   "display_name": "Python 3 (ipykernel)",
   "language": "python",
   "name": "python3"
  },
  "language_info": {
   "codemirror_mode": {
    "name": "ipython",
    "version": 3
   },
   "file_extension": ".py",
   "mimetype": "text/x-python",
   "name": "python",
   "nbconvert_exporter": "python",
   "pygments_lexer": "ipython3",
   "version": "3.11.5"
  }
 },
 "nbformat": 4,
 "nbformat_minor": 4
}
